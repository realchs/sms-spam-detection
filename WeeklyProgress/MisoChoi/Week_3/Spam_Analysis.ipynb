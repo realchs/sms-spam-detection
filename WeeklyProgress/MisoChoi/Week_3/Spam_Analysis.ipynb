{
 "cells": [
  {
   "cell_type": "markdown",
   "id": "13ac3a3b",
   "metadata": {},
   "source": [
    "### Excel 파일 CSV로 변환 후 병합"
   ]
  },
  {
   "cell_type": "code",
   "execution_count": 1,
   "id": "7df6f84e",
   "metadata": {
    "scrolled": true
   },
   "outputs": [],
   "source": [
    "import jpype\n",
    "import asposecells\n",
    "jpype.startJVM()\n",
    "from asposecells.api import Workbook, SaveFormat"
   ]
  },
  {
   "cell_type": "code",
   "execution_count": 120,
   "id": "f2439c8a",
   "metadata": {
    "scrolled": true
   },
   "outputs": [],
   "source": [
    "import os\n",
    "from tqdm import tqdm\n",
    "import pandas as pd\n",
    "import matplotlib.pyplot as plt\n",
    "import matplotlib\n",
    "import numpy as np"
   ]
  },
  {
   "cell_type": "code",
   "execution_count": 5,
   "id": "018aa367",
   "metadata": {},
   "outputs": [],
   "source": [
    "os.chdir('/home/miso/SpamDetection/spam_data/excel')"
   ]
  },
  {
   "cell_type": "code",
   "execution_count": 6,
   "id": "8c6256b2",
   "metadata": {},
   "outputs": [
    {
     "name": "stdout",
     "output_type": "stream",
     "text": [
      "/home/miso/SpamDetection/spam_data/excel\r\n"
     ]
    }
   ],
   "source": [
    "!pwd"
   ]
  },
  {
   "cell_type": "code",
   "execution_count": 7,
   "id": "2ec9e632",
   "metadata": {},
   "outputs": [],
   "source": [
    "excel_file_list = '2022-08-14.xlsx  2022-09-02.xlsx  2022-09-21.xlsx  2022-10-17.xlsx  2022-11-05.xlsx  2022-11-24.xlsx  2022-12-13.xlsx  \\\n",
    "2022-08-15.xlsx  2022-09-03.xlsx  2022-09-22.xlsx  2022-10-18.xlsx  2022-11-06.xlsx  2022-11-25.xlsx  2022-12-14.xlsx  \\\n",
    "2022-08-16.xlsx  2022-09-04.xlsx  2022-09-26.xlsx  2022-10-19.xlsx  2022-11-07.xlsx  2022-11-26.xlsx  2022-12-15.xlsx  \\\n",
    "2022-08-17.xlsx  2022-09-05.xlsx  2022-09-27.xlsx  2022-10-20.xlsx  2022-11-08.xlsx  2022-11-27.xlsx  2022-12-16.xlsx  \\\n",
    "2022-08-18.xlsx  2022-09-06.xlsx  2022-09-28.xlsx  2022-10-21.xlsx  2022-11-09.xlsx  2022-11-28.xlsx  2022-12-17.xlsx  \\\n",
    "2022-08-19.xlsx  2022-09-07.xlsx  2022-09-29.xlsx  2022-10-22.xlsx  2022-11-10.xlsx  2022-11-29.xlsx  2022-12-18.xlsx  \\\n",
    "2022-08-20.xlsx  2022-09-08.xlsx  2022-09-30.xlsx  2022-10-23.xlsx  2022-11-11.xlsx  2022-11-30.xlsx  2022-12-19.xlsx  \\\n",
    "2022-08-21.xlsx  2022-09-09.xlsx  2022-10-01.xlsx  2022-10-24.xlsx  2022-11-12.xlsx  2022-12-01.xlsx  2022-12-20.xlsx  \\\n",
    "2022-08-22.xlsx  2022-09-10.xlsx  2022-10-02.xlsx  2022-10-25.xlsx  2022-11-13.xlsx  2022-12-02.xlsx  2022-12-21.xlsx  \\\n",
    "2022-08-23.xlsx  2022-09-11.xlsx  2022-10-03.xlsx  2022-10-26.xlsx  2022-11-14.xlsx  2022-12-03.xlsx  2022-12-22.xlsx  \\\n",
    "2022-08-24.xlsx  2022-09-12.xlsx  2022-10-04.xlsx  2022-10-27.xlsx  2022-11-15.xlsx  2022-12-04.xlsx  2022-12-23.xlsx  \\\n",
    "2022-08-25.xlsx  2022-09-13.xlsx  2022-10-06.xlsx  2022-10-28.xlsx  2022-11-16.xlsx  2022-12-05.xlsx  2022-12-24.xlsx  \\\n",
    "2022-08-26.xlsx  2022-09-14.xlsx  2022-10-07.xlsx  2022-10-29.xlsx  2022-11-17.xlsx  2022-12-06.xlsx  2022-12-25.xlsx  \\\n",
    "2022-08-27.xlsx  2022-09-15.xlsx  2022-10-09.xlsx  2022-10-30.xlsx  2022-11-18.xlsx  2022-12-07.xlsx  2022-12-26.xlsx  \\\n",
    "2022-08-28.xlsx  2022-09-16.xlsx  2022-10-10.xlsx  2022-10-31.xlsx  2022-11-19.xlsx  2022-12-08.xlsx  2022-12-27.xlsx  \\\n",
    "2022-08-29.xlsx  2022-09-17.xlsx  2022-10-11.xlsx  2022-11-01.xlsx  2022-11-20.xlsx  2022-12-09.xlsx  2022-12-28.xlsx  \\\n",
    "2022-08-30.xlsx  2022-09-18.xlsx  2022-10-12.xlsx  2022-11-02.xlsx  2022-11-21.xlsx  2022-12-10.xlsx  2022-12-29.xlsx  \\\n",
    "2022-08-31.xlsx  2022-09-19.xlsx  2022-10-13.xlsx  2022-11-03.xlsx  2022-11-22.xlsx  2022-12-11.xlsx  2022-12-30.xlsx  \\\n",
    "2022-09-01.xlsx  2022-09-20.xlsx  2022-10-14.xlsx  2022-11-04.xlsx  2022-11-23.xlsx  2022-12-12.xlsx  2022-12-31.xlsx'.split('  ')"
   ]
  },
  {
   "cell_type": "code",
   "execution_count": 7,
   "id": "a518b2b3",
   "metadata": {},
   "outputs": [],
   "source": [
    "### CSV 변환\n",
    "# 한번에 100개까지만 workbook 열 수 있음 (100개 처리 후 kernel restart)\n",
    "# 0~99\n",
    "for num, i in enumerate(tqdm(excel_file_list)):\n",
    "    if num < 100:\n",
    "        workbook = Workbook(i)\n",
    "        workbook.save('/home/miso/SpamDetection/spam_data/csv/'+ \\\n",
    "                      i.split('.')[:-1][0]+'.csv', SaveFormat.CSV)\n",
    "    else:\n",
    "        break"
   ]
  },
  {
   "cell_type": "code",
   "execution_count": 8,
   "id": "db0c3a3a",
   "metadata": {},
   "outputs": [
    {
     "name": "stderr",
     "output_type": "stream",
     "text": [
      "133it [00:40,  3.28it/s]\n"
     ]
    }
   ],
   "source": [
    "# 100~132\n",
    "for num, i in enumerate(tqdm(excel_file_list)):\n",
    "    if num >= 100:\n",
    "        workbook = Workbook(i)\n",
    "        workbook.save('/home/miso/SpamDetection/spam_data/csv/'+ \\\n",
    "                      i.split('.')[:-1][0]+'.csv', SaveFormat.CSV)"
   ]
  },
  {
   "cell_type": "code",
   "execution_count": 25,
   "id": "9203f732",
   "metadata": {},
   "outputs": [],
   "source": [
    "os.chdir('/home/miso/SpamDetection/spam_data/csv')"
   ]
  },
  {
   "cell_type": "code",
   "execution_count": 23,
   "id": "a81645b8",
   "metadata": {},
   "outputs": [
    {
     "data": {
      "text/plain": [
       "'0814'"
      ]
     },
     "execution_count": 23,
     "metadata": {},
     "output_type": "execute_result"
    }
   ],
   "source": [
    "''.join(excel_file_list[0].split('.')[0].split('-')[1:])"
   ]
  },
  {
   "cell_type": "code",
   "execution_count": 15,
   "id": "db5fa0c6",
   "metadata": {},
   "outputs": [
    {
     "name": "stderr",
     "output_type": "stream",
     "text": [
      "100%|██████████████████████████████████████████████████████████████████| 133/133 [00:00<00:00, 281596.38it/s]"
     ]
    },
    {
     "name": "stdout",
     "output_type": "stream",
     "text": [
      "2022-08-14.xlsx\n",
      "2022-09-02.xlsx\n",
      "2022-09-21.xlsx\n",
      "2022-10-17.xlsx\n",
      "2022-11-05.xlsx\n",
      "2022-11-24.xlsx\n",
      "2022-12-13.xlsx\n",
      "2022-08-15.xlsx\n",
      "2022-09-03.xlsx\n",
      "2022-09-22.xlsx\n",
      "2022-10-18.xlsx\n",
      "2022-11-06.xlsx\n",
      "2022-11-25.xlsx\n",
      "2022-12-14.xlsx\n",
      "2022-08-16.xlsx\n",
      "2022-09-04.xlsx\n",
      "2022-09-26.xlsx\n",
      "2022-10-19.xlsx\n",
      "2022-11-07.xlsx\n",
      "2022-11-26.xlsx\n",
      "2022-12-15.xlsx\n",
      "2022-08-17.xlsx\n",
      "2022-09-05.xlsx\n",
      "2022-09-27.xlsx\n",
      "2022-10-20.xlsx\n",
      "2022-11-08.xlsx\n",
      "2022-11-27.xlsx\n",
      "2022-12-16.xlsx\n",
      "2022-08-18.xlsx\n",
      "2022-09-06.xlsx\n",
      "2022-09-28.xlsx\n",
      "2022-10-21.xlsx\n",
      "2022-11-09.xlsx\n",
      "2022-11-28.xlsx\n",
      "2022-12-17.xlsx\n",
      "2022-08-19.xlsx\n",
      "2022-09-07.xlsx\n",
      "2022-09-29.xlsx\n",
      "2022-10-22.xlsx\n",
      "2022-11-10.xlsx\n",
      "2022-11-29.xlsx\n",
      "2022-12-18.xlsx\n",
      "2022-08-20.xlsx\n",
      "2022-09-08.xlsx\n",
      "2022-09-30.xlsx\n",
      "2022-10-23.xlsx\n",
      "2022-11-11.xlsx\n",
      "2022-11-30.xlsx\n",
      "2022-12-19.xlsx\n",
      "2022-08-21.xlsx\n",
      "2022-09-09.xlsx\n",
      "2022-10-01.xlsx\n",
      "2022-10-24.xlsx\n",
      "2022-11-12.xlsx\n",
      "2022-12-01.xlsx\n",
      "2022-12-20.xlsx\n",
      "2022-08-22.xlsx\n",
      "2022-09-10.xlsx\n",
      "2022-10-02.xlsx\n",
      "2022-10-25.xlsx\n",
      "2022-11-13.xlsx\n",
      "2022-12-02.xlsx\n",
      "2022-12-21.xlsx\n",
      "2022-08-23.xlsx\n",
      "2022-09-11.xlsx\n",
      "2022-10-03.xlsx\n",
      "2022-10-26.xlsx\n",
      "2022-11-14.xlsx\n",
      "2022-12-03.xlsx\n",
      "2022-12-22.xlsx\n",
      "2022-08-24.xlsx\n",
      "2022-09-12.xlsx\n",
      "2022-10-04.xlsx\n",
      "2022-10-27.xlsx\n",
      "2022-11-15.xlsx\n",
      "2022-12-04.xlsx\n",
      "2022-12-23.xlsx\n",
      "2022-08-25.xlsx\n",
      "2022-09-13.xlsx\n",
      "2022-10-06.xlsx\n",
      "2022-10-28.xlsx\n",
      "2022-11-16.xlsx\n",
      "2022-12-05.xlsx\n",
      "2022-12-24.xlsx\n",
      "2022-08-26.xlsx\n",
      "2022-09-14.xlsx\n",
      "2022-10-07.xlsx\n",
      "2022-10-29.xlsx\n",
      "2022-11-17.xlsx\n",
      "2022-12-06.xlsx\n",
      "2022-12-25.xlsx\n",
      "2022-08-27.xlsx\n",
      "2022-09-15.xlsx\n",
      "2022-10-09.xlsx\n",
      "2022-10-30.xlsx\n",
      "2022-11-18.xlsx\n",
      "2022-12-07.xlsx\n",
      "2022-12-26.xlsx\n",
      "2022-08-28.xlsx\n",
      "2022-09-16.xlsx\n",
      "2022-10-10.xlsx\n",
      "2022-10-31.xlsx\n",
      "2022-11-19.xlsx\n",
      "2022-12-08.xlsx\n",
      "2022-12-27.xlsx\n",
      "2022-08-29.xlsx\n",
      "2022-09-17.xlsx\n",
      "2022-10-11.xlsx\n",
      "2022-11-01.xlsx\n",
      "2022-11-20.xlsx\n",
      "2022-12-09.xlsx\n",
      "2022-12-28.xlsx\n",
      "2022-08-30.xlsx\n",
      "2022-09-18.xlsx\n",
      "2022-10-12.xlsx\n",
      "2022-11-02.xlsx\n",
      "2022-11-21.xlsx\n",
      "2022-12-10.xlsx\n",
      "2022-12-29.xlsx\n",
      "2022-08-31.xlsx\n",
      "2022-09-19.xlsx\n",
      "2022-10-13.xlsx\n",
      "2022-11-03.xlsx\n",
      "2022-11-22.xlsx\n",
      "2022-12-11.xlsx\n",
      "2022-12-30.xlsx\n",
      "2022-09-01.xlsx\n",
      "2022-09-20.xlsx\n",
      "2022-10-14.xlsx\n",
      "2022-11-04.xlsx\n",
      "2022-11-23.xlsx\n",
      "2022-12-12.xlsx\n",
      "2022-12-31.xlsx\n"
     ]
    },
    {
     "name": "stderr",
     "output_type": "stream",
     "text": [
      "\n"
     ]
    }
   ],
   "source": [
    "### 병합\n",
    "for num, i in enumerate(tqdm(excel_file_list)):\n",
    "    pd.read_csv(i)"
   ]
  },
  {
   "cell_type": "code",
   "execution_count": 29,
   "id": "bcbab2f8",
   "metadata": {},
   "outputs": [],
   "source": [
    "csv_file_list = os.listdir('./')"
   ]
  },
  {
   "cell_type": "code",
   "execution_count": 64,
   "id": "5a34e00f",
   "metadata": {
    "scrolled": true
   },
   "outputs": [
    {
     "name": "stderr",
     "output_type": "stream",
     "text": [
      "  0%|                                                                                | 0/133 [00:00<?, ?it/s]/home/miso/.conda/envs/miso/lib/python3.7/site-packages/IPython/core/interactiveshell.py:3553: DtypeWarning: Columns (0,3) have mixed types.Specify dtype option on import or set low_memory=False.\n",
      "  exec(code_obj, self.user_global_ns, self.user_ns)\n",
      "  2%|█▌                                                                      | 3/133 [00:01<00:44,  2.91it/s]"
     ]
    },
    {
     "name": "stdout",
     "output_type": "stream",
     "text": [
      "1번째 데이터프레임 shape:(132045, 12)\n",
      "병합한 TOTAL 데이터프레임 shape:(272497, 12)\n",
      "==============================================\n",
      "2번째 데이터프레임 shape:(21313, 12)\n",
      "병합한 TOTAL 데이터프레임 shape:(293810, 12)\n",
      "==============================================\n"
     ]
    },
    {
     "name": "stderr",
     "output_type": "stream",
     "text": [
      "  3%|██▏                                                                     | 4/133 [00:01<00:53,  2.42it/s]"
     ]
    },
    {
     "name": "stdout",
     "output_type": "stream",
     "text": [
      "3번째 데이터프레임 shape:(85823, 12)\n",
      "병합한 TOTAL 데이터프레임 shape:(379633, 12)\n",
      "==============================================\n"
     ]
    },
    {
     "name": "stderr",
     "output_type": "stream",
     "text": [
      "  4%|██▋                                                                     | 5/133 [00:02<01:14,  1.72it/s]"
     ]
    },
    {
     "name": "stdout",
     "output_type": "stream",
     "text": [
      "4번째 데이터프레임 shape:(119244, 12)\n",
      "병합한 TOTAL 데이터프레임 shape:(498877, 12)\n",
      "==============================================\n"
     ]
    },
    {
     "name": "stderr",
     "output_type": "stream",
     "text": [
      "  5%|███▏                                                                    | 6/133 [00:02<01:08,  1.86it/s]"
     ]
    },
    {
     "name": "stdout",
     "output_type": "stream",
     "text": [
      "5번째 데이터프레임 shape:(57345, 12)\n",
      "병합한 TOTAL 데이터프레임 shape:(556222, 12)\n",
      "==============================================\n"
     ]
    },
    {
     "name": "stderr",
     "output_type": "stream",
     "text": [
      "  5%|███▊                                                                    | 7/133 [00:03<01:21,  1.54it/s]"
     ]
    },
    {
     "name": "stdout",
     "output_type": "stream",
     "text": [
      "6번째 데이터프레임 shape:(127230, 12)\n",
      "병합한 TOTAL 데이터프레임 shape:(683452, 12)\n",
      "==============================================\n"
     ]
    },
    {
     "name": "stderr",
     "output_type": "stream",
     "text": [
      "  6%|████▎                                                                   | 8/133 [00:04<01:17,  1.61it/s]"
     ]
    },
    {
     "name": "stdout",
     "output_type": "stream",
     "text": [
      "7번째 데이터프레임 shape:(90222, 12)\n",
      "병합한 TOTAL 데이터프레임 shape:(773674, 12)\n",
      "==============================================\n"
     ]
    },
    {
     "name": "stderr",
     "output_type": "stream",
     "text": [
      "/home/miso/.conda/envs/miso/lib/python3.7/site-packages/IPython/core/interactiveshell.py:3553: DtypeWarning: Columns (0) have mixed types.Specify dtype option on import or set low_memory=False.\n",
      "  exec(code_obj, self.user_global_ns, self.user_ns)\n",
      "  7%|████▊                                                                   | 9/133 [00:05<01:42,  1.21it/s]"
     ]
    },
    {
     "name": "stdout",
     "output_type": "stream",
     "text": [
      "8번째 데이터프레임 shape:(152371, 12)\n",
      "병합한 TOTAL 데이터프레임 shape:(926045, 12)\n",
      "==============================================\n"
     ]
    },
    {
     "name": "stderr",
     "output_type": "stream",
     "text": [
      "  8%|█████▎                                                                 | 10/133 [00:06<01:21,  1.51it/s]"
     ]
    },
    {
     "name": "stdout",
     "output_type": "stream",
     "text": [
      "9번째 데이터프레임 shape:(30798, 12)\n",
      "병합한 TOTAL 데이터프레임 shape:(956843, 12)\n",
      "==============================================\n"
     ]
    },
    {
     "name": "stderr",
     "output_type": "stream",
     "text": [
      "  8%|█████▊                                                                 | 11/133 [00:06<01:15,  1.62it/s]"
     ]
    },
    {
     "name": "stdout",
     "output_type": "stream",
     "text": [
      "10번째 데이터프레임 shape:(79199, 12)\n",
      "병합한 TOTAL 데이터프레임 shape:(1036042, 12)\n",
      "==============================================\n"
     ]
    },
    {
     "name": "stderr",
     "output_type": "stream",
     "text": [
      "  9%|██████▍                                                                | 12/133 [00:07<01:19,  1.53it/s]"
     ]
    },
    {
     "name": "stdout",
     "output_type": "stream",
     "text": [
      "11번째 데이터프레임 shape:(100085, 12)\n",
      "병합한 TOTAL 데이터프레임 shape:(1136127, 12)\n",
      "==============================================\n"
     ]
    },
    {
     "name": "stderr",
     "output_type": "stream",
     "text": [
      " 10%|██████▉                                                                | 13/133 [00:07<01:08,  1.75it/s]"
     ]
    },
    {
     "name": "stdout",
     "output_type": "stream",
     "text": [
      "12번째 데이터프레임 shape:(43648, 12)\n",
      "병합한 TOTAL 데이터프레임 shape:(1179775, 12)\n",
      "==============================================\n"
     ]
    },
    {
     "name": "stderr",
     "output_type": "stream",
     "text": [
      " 11%|███████▍                                                               | 14/133 [00:08<01:05,  1.81it/s]"
     ]
    },
    {
     "name": "stdout",
     "output_type": "stream",
     "text": [
      "13번째 데이터프레임 shape:(69578, 12)\n",
      "병합한 TOTAL 데이터프레임 shape:(1249353, 12)\n",
      "==============================================\n"
     ]
    },
    {
     "name": "stderr",
     "output_type": "stream",
     "text": [
      " 11%|████████                                                               | 15/133 [00:09<01:22,  1.43it/s]"
     ]
    },
    {
     "name": "stdout",
     "output_type": "stream",
     "text": [
      "14번째 데이터프레임 shape:(134027, 12)\n",
      "병합한 TOTAL 데이터프레임 shape:(1383380, 12)\n",
      "==============================================\n"
     ]
    },
    {
     "name": "stderr",
     "output_type": "stream",
     "text": [
      " 12%|████████▌                                                              | 16/133 [00:09<01:10,  1.66it/s]"
     ]
    },
    {
     "name": "stdout",
     "output_type": "stream",
     "text": [
      "15번째 데이터프레임 shape:(43840, 12)\n",
      "병합한 TOTAL 데이터프레임 shape:(1427220, 12)\n",
      "==============================================\n"
     ]
    },
    {
     "name": "stderr",
     "output_type": "stream",
     "text": [
      " 13%|█████████                                                              | 17/133 [00:10<01:12,  1.59it/s]"
     ]
    },
    {
     "name": "stdout",
     "output_type": "stream",
     "text": [
      "16번째 데이터프레임 shape:(86590, 12)\n",
      "병합한 TOTAL 데이터프레임 shape:(1513810, 12)\n",
      "==============================================\n"
     ]
    },
    {
     "name": "stderr",
     "output_type": "stream",
     "text": [
      " 14%|█████████▌                                                             | 18/133 [00:10<01:03,  1.81it/s]"
     ]
    },
    {
     "name": "stdout",
     "output_type": "stream",
     "text": [
      "17번째 데이터프레임 shape:(35634, 12)\n",
      "병합한 TOTAL 데이터프레임 shape:(1549444, 12)\n",
      "==============================================\n"
     ]
    },
    {
     "name": "stderr",
     "output_type": "stream",
     "text": [
      " 14%|██████████▏                                                            | 19/133 [00:11<01:12,  1.57it/s]"
     ]
    },
    {
     "name": "stdout",
     "output_type": "stream",
     "text": [
      "18번째 데이터프레임 shape:(99693, 12)\n",
      "병합한 TOTAL 데이터프레임 shape:(1649137, 12)\n",
      "==============================================\n"
     ]
    },
    {
     "name": "stderr",
     "output_type": "stream",
     "text": [
      " 15%|██████████▋                                                            | 20/133 [00:12<01:26,  1.30it/s]"
     ]
    },
    {
     "name": "stdout",
     "output_type": "stream",
     "text": [
      "19번째 데이터프레임 shape:(127862, 12)\n",
      "병합한 TOTAL 데이터프레임 shape:(1776999, 12)\n",
      "==============================================\n"
     ]
    },
    {
     "name": "stderr",
     "output_type": "stream",
     "text": [
      " 16%|███████████▏                                                           | 21/133 [00:13<01:34,  1.19it/s]"
     ]
    },
    {
     "name": "stdout",
     "output_type": "stream",
     "text": [
      "20번째 데이터프레임 shape:(132177, 12)\n",
      "병합한 TOTAL 데이터프레임 shape:(1909176, 12)\n",
      "==============================================\n"
     ]
    },
    {
     "name": "stderr",
     "output_type": "stream",
     "text": [
      " 17%|███████████▋                                                           | 22/133 [00:14<01:25,  1.30it/s]"
     ]
    },
    {
     "name": "stdout",
     "output_type": "stream",
     "text": [
      "21번째 데이터프레임 shape:(71238, 12)\n",
      "병합한 TOTAL 데이터프레임 shape:(1980414, 12)\n",
      "==============================================\n"
     ]
    },
    {
     "name": "stderr",
     "output_type": "stream",
     "text": [
      " 17%|████████████▎                                                          | 23/133 [00:14<01:26,  1.26it/s]"
     ]
    },
    {
     "name": "stdout",
     "output_type": "stream",
     "text": [
      "22번째 데이터프레임 shape:(106528, 12)\n",
      "병합한 TOTAL 데이터프레임 shape:(2086942, 12)\n",
      "==============================================\n"
     ]
    },
    {
     "name": "stderr",
     "output_type": "stream",
     "text": [
      " 18%|████████████▊                                                          | 24/133 [00:15<01:27,  1.24it/s]"
     ]
    },
    {
     "name": "stdout",
     "output_type": "stream",
     "text": [
      "23번째 데이터프레임 shape:(111437, 12)\n",
      "병합한 TOTAL 데이터프레임 shape:(2198379, 12)\n",
      "==============================================\n"
     ]
    },
    {
     "name": "stderr",
     "output_type": "stream",
     "text": [
      " 19%|█████████████▎                                                         | 25/133 [00:16<01:20,  1.35it/s]"
     ]
    },
    {
     "name": "stdout",
     "output_type": "stream",
     "text": [
      "24번째 데이터프레임 shape:(50947, 12)\n",
      "병합한 TOTAL 데이터프레임 shape:(2249326, 12)\n",
      "==============================================\n"
     ]
    },
    {
     "name": "stderr",
     "output_type": "stream",
     "text": [
      " 20%|█████████████▉                                                         | 26/133 [00:17<01:14,  1.43it/s]"
     ]
    },
    {
     "name": "stdout",
     "output_type": "stream",
     "text": [
      "25번째 데이터프레임 shape:(64582, 12)\n",
      "병합한 TOTAL 데이터프레임 shape:(2313908, 12)\n",
      "==============================================\n"
     ]
    },
    {
     "name": "stderr",
     "output_type": "stream",
     "text": [
      " 20%|██████████████▍                                                        | 27/133 [00:18<01:31,  1.16it/s]"
     ]
    },
    {
     "name": "stdout",
     "output_type": "stream",
     "text": [
      "26번째 데이터프레임 shape:(136650, 12)\n",
      "병합한 TOTAL 데이터프레임 shape:(2450558, 12)\n",
      "==============================================\n"
     ]
    },
    {
     "name": "stderr",
     "output_type": "stream",
     "text": [
      " 21%|██████████████▉                                                        | 28/133 [00:18<01:19,  1.32it/s]"
     ]
    },
    {
     "name": "stdout",
     "output_type": "stream",
     "text": [
      "27번째 데이터프레임 shape:(45381, 12)\n",
      "병합한 TOTAL 데이터프레임 shape:(2495939, 12)\n",
      "==============================================\n"
     ]
    },
    {
     "name": "stderr",
     "output_type": "stream",
     "text": [
      " 22%|███████████████▍                                                       | 29/133 [00:19<01:16,  1.37it/s]"
     ]
    },
    {
     "name": "stdout",
     "output_type": "stream",
     "text": [
      "28번째 데이터프레임 shape:(55940, 12)\n",
      "병합한 TOTAL 데이터프레임 shape:(2551879, 12)\n",
      "==============================================\n"
     ]
    },
    {
     "name": "stderr",
     "output_type": "stream",
     "text": [
      " 23%|████████████████                                                       | 30/133 [00:19<01:09,  1.49it/s]"
     ]
    },
    {
     "name": "stdout",
     "output_type": "stream",
     "text": [
      "29번째 데이터프레임 shape:(39152, 12)\n",
      "병합한 TOTAL 데이터프레임 shape:(2591031, 12)\n",
      "==============================================\n"
     ]
    },
    {
     "name": "stderr",
     "output_type": "stream",
     "text": [
      " 23%|████████████████▌                                                      | 31/133 [00:20<01:14,  1.36it/s]"
     ]
    },
    {
     "name": "stdout",
     "output_type": "stream",
     "text": [
      "30번째 데이터프레임 shape:(93526, 12)\n",
      "병합한 TOTAL 데이터프레임 shape:(2684557, 12)\n",
      "==============================================\n"
     ]
    },
    {
     "name": "stderr",
     "output_type": "stream",
     "text": [
      " 24%|█████████████████                                                      | 32/133 [00:21<01:18,  1.29it/s]"
     ]
    },
    {
     "name": "stdout",
     "output_type": "stream",
     "text": [
      "31번째 데이터프레임 shape:(107543, 12)\n",
      "병합한 TOTAL 데이터프레임 shape:(2792100, 12)\n",
      "==============================================\n"
     ]
    },
    {
     "name": "stderr",
     "output_type": "stream",
     "text": [
      " 25%|█████████████████▌                                                     | 33/133 [00:22<01:11,  1.40it/s]"
     ]
    },
    {
     "name": "stdout",
     "output_type": "stream",
     "text": [
      "32번째 데이터프레임 shape:(50835, 12)\n",
      "병합한 TOTAL 데이터프레임 shape:(2842935, 12)\n",
      "==============================================\n"
     ]
    },
    {
     "name": "stderr",
     "output_type": "stream",
     "text": [
      " 26%|██████████████████▏                                                    | 34/133 [00:22<01:05,  1.51it/s]"
     ]
    },
    {
     "name": "stdout",
     "output_type": "stream",
     "text": [
      "33번째 데이터프레임 shape:(46778, 12)\n",
      "병합한 TOTAL 데이터프레임 shape:(2889713, 12)\n",
      "==============================================\n"
     ]
    },
    {
     "name": "stderr",
     "output_type": "stream",
     "text": [
      " 26%|██████████████████▋                                                    | 35/133 [00:23<01:11,  1.38it/s]"
     ]
    },
    {
     "name": "stdout",
     "output_type": "stream",
     "text": [
      "34번째 데이터프레임 shape:(90657, 12)\n",
      "병합한 TOTAL 데이터프레임 shape:(2980370, 12)\n",
      "==============================================\n"
     ]
    },
    {
     "name": "stderr",
     "output_type": "stream",
     "text": [
      " 27%|███████████████████▏                                                   | 36/133 [00:24<01:18,  1.23it/s]"
     ]
    },
    {
     "name": "stdout",
     "output_type": "stream",
     "text": [
      "35번째 데이터프레임 shape:(113588, 12)\n",
      "병합한 TOTAL 데이터프레임 shape:(3093958, 12)\n",
      "==============================================\n"
     ]
    },
    {
     "name": "stderr",
     "output_type": "stream",
     "text": [
      " 28%|███████████████████▊                                                   | 37/133 [00:25<01:20,  1.19it/s]"
     ]
    },
    {
     "name": "stdout",
     "output_type": "stream",
     "text": [
      "36번째 데이터프레임 shape:(90265, 12)\n",
      "병합한 TOTAL 데이터프레임 shape:(3184223, 12)\n",
      "==============================================\n"
     ]
    },
    {
     "name": "stderr",
     "output_type": "stream",
     "text": [
      " 29%|████████████████████▎                                                  | 38/133 [00:26<01:26,  1.10it/s]"
     ]
    },
    {
     "name": "stdout",
     "output_type": "stream",
     "text": [
      "37번째 데이터프레임 shape:(111098, 12)\n",
      "병합한 TOTAL 데이터프레임 shape:(3295321, 12)\n",
      "==============================================\n"
     ]
    },
    {
     "name": "stderr",
     "output_type": "stream",
     "text": [
      " 29%|████████████████████▊                                                  | 39/133 [00:28<01:39,  1.06s/it]"
     ]
    },
    {
     "name": "stdout",
     "output_type": "stream",
     "text": [
      "38번째 데이터프레임 shape:(143863, 12)\n",
      "병합한 TOTAL 데이터프레임 shape:(3439184, 12)\n",
      "==============================================\n"
     ]
    },
    {
     "name": "stderr",
     "output_type": "stream",
     "text": [
      " 30%|█████████████████████▎                                                 | 40/133 [00:29<01:34,  1.01s/it]"
     ]
    },
    {
     "name": "stdout",
     "output_type": "stream",
     "text": [
      "39번째 데이터프레임 shape:(74723, 12)\n",
      "병합한 TOTAL 데이터프레임 shape:(3513907, 12)\n",
      "==============================================\n"
     ]
    },
    {
     "name": "stderr",
     "output_type": "stream",
     "text": [
      " 31%|█████████████████████▉                                                 | 41/133 [00:30<01:32,  1.01s/it]"
     ]
    },
    {
     "name": "stdout",
     "output_type": "stream",
     "text": [
      "40번째 데이터프레임 shape:(87618, 12)\n",
      "병합한 TOTAL 데이터프레임 shape:(3601525, 12)\n",
      "==============================================\n"
     ]
    },
    {
     "name": "stderr",
     "output_type": "stream",
     "text": [
      " 32%|██████████████████████▍                                                | 42/133 [00:30<01:30,  1.00it/s]"
     ]
    },
    {
     "name": "stdout",
     "output_type": "stream",
     "text": [
      "41번째 데이터프레임 shape:(103223, 12)\n",
      "병합한 TOTAL 데이터프레임 shape:(3704748, 12)\n",
      "==============================================\n"
     ]
    },
    {
     "name": "stderr",
     "output_type": "stream",
     "text": [
      " 32%|██████████████████████▉                                                | 43/133 [00:31<01:25,  1.06it/s]"
     ]
    },
    {
     "name": "stdout",
     "output_type": "stream",
     "text": [
      "42번째 데이터프레임 shape:(58243, 12)\n",
      "병합한 TOTAL 데이터프레임 shape:(3762991, 12)\n",
      "==============================================\n"
     ]
    },
    {
     "name": "stderr",
     "output_type": "stream",
     "text": [
      " 33%|███████████████████████▍                                               | 44/133 [00:32<01:24,  1.05it/s]"
     ]
    },
    {
     "name": "stdout",
     "output_type": "stream",
     "text": [
      "43번째 데이터프레임 shape:(74926, 12)\n",
      "병합한 TOTAL 데이터프레임 shape:(3837917, 12)\n",
      "==============================================\n"
     ]
    },
    {
     "name": "stderr",
     "output_type": "stream",
     "text": [
      " 34%|████████████████████████                                               | 45/133 [00:33<01:19,  1.11it/s]"
     ]
    },
    {
     "name": "stdout",
     "output_type": "stream",
     "text": [
      "44번째 데이터프레임 shape:(60912, 12)\n",
      "병합한 TOTAL 데이터프레임 shape:(3898829, 12)\n",
      "==============================================\n"
     ]
    },
    {
     "name": "stderr",
     "output_type": "stream",
     "text": [
      " 35%|████████████████████████▌                                              | 46/133 [00:34<01:12,  1.19it/s]"
     ]
    },
    {
     "name": "stdout",
     "output_type": "stream",
     "text": [
      "45번째 데이터프레임 shape:(47802, 12)\n",
      "병합한 TOTAL 데이터프레임 shape:(3946631, 12)\n",
      "==============================================\n"
     ]
    },
    {
     "name": "stderr",
     "output_type": "stream",
     "text": [
      " 35%|█████████████████████████                                              | 47/133 [00:35<01:25,  1.01it/s]"
     ]
    },
    {
     "name": "stdout",
     "output_type": "stream",
     "text": [
      "46번째 데이터프레임 shape:(133798, 12)\n",
      "병합한 TOTAL 데이터프레임 shape:(4080429, 12)\n",
      "==============================================\n"
     ]
    },
    {
     "name": "stderr",
     "output_type": "stream",
     "text": [
      " 36%|█████████████████████████▌                                             | 48/133 [00:36<01:29,  1.06s/it]"
     ]
    },
    {
     "name": "stdout",
     "output_type": "stream",
     "text": [
      "47번째 데이터프레임 shape:(120500, 12)\n",
      "병합한 TOTAL 데이터프레임 shape:(4200929, 12)\n",
      "==============================================\n"
     ]
    },
    {
     "name": "stderr",
     "output_type": "stream",
     "text": [
      " 37%|██████████████████████████▏                                            | 49/133 [00:38<01:36,  1.15s/it]"
     ]
    },
    {
     "name": "stdout",
     "output_type": "stream",
     "text": [
      "48번째 데이터프레임 shape:(123861, 12)\n",
      "병합한 TOTAL 데이터프레임 shape:(4324790, 12)\n",
      "==============================================\n"
     ]
    },
    {
     "name": "stderr",
     "output_type": "stream",
     "text": [
      " 38%|██████████████████████████▋                                            | 50/133 [00:38<01:25,  1.02s/it]"
     ]
    },
    {
     "name": "stdout",
     "output_type": "stream",
     "text": [
      "49번째 데이터프레임 shape:(43921, 12)\n",
      "병합한 TOTAL 데이터프레임 shape:(4368711, 12)\n",
      "==============================================\n"
     ]
    },
    {
     "name": "stderr",
     "output_type": "stream",
     "text": [
      " 38%|███████████████████████████▏                                           | 51/133 [00:40<01:38,  1.20s/it]"
     ]
    },
    {
     "name": "stdout",
     "output_type": "stream",
     "text": [
      "50번째 데이터프레임 shape:(153770, 12)\n",
      "병합한 TOTAL 데이터프레임 shape:(4522481, 12)\n",
      "==============================================\n"
     ]
    },
    {
     "name": "stderr",
     "output_type": "stream",
     "text": [
      " 39%|███████████████████████████▊                                           | 52/133 [00:41<01:32,  1.14s/it]"
     ]
    },
    {
     "name": "stdout",
     "output_type": "stream",
     "text": [
      "51번째 데이터프레임 shape:(90830, 12)\n",
      "병합한 TOTAL 데이터프레임 shape:(4613311, 12)\n",
      "==============================================\n"
     ]
    },
    {
     "name": "stderr",
     "output_type": "stream",
     "text": [
      " 40%|████████████████████████████▎                                          | 53/133 [00:42<01:21,  1.02s/it]"
     ]
    },
    {
     "name": "stdout",
     "output_type": "stream",
     "text": [
      "52번째 데이터프레임 shape:(41277, 12)\n",
      "병합한 TOTAL 데이터프레임 shape:(4654588, 12)\n",
      "==============================================\n"
     ]
    },
    {
     "name": "stderr",
     "output_type": "stream",
     "text": [
      " 41%|████████████████████████████▊                                          | 54/133 [00:43<01:16,  1.03it/s]"
     ]
    },
    {
     "name": "stdout",
     "output_type": "stream",
     "text": [
      "53번째 데이터프레임 shape:(56790, 12)\n",
      "병합한 TOTAL 데이터프레임 shape:(4711378, 12)\n",
      "==============================================\n"
     ]
    },
    {
     "name": "stderr",
     "output_type": "stream",
     "text": [
      " 41%|█████████████████████████████▎                                         | 55/133 [00:44<01:23,  1.07s/it]"
     ]
    },
    {
     "name": "stdout",
     "output_type": "stream",
     "text": [
      "54번째 데이터프레임 shape:(129856, 12)\n",
      "병합한 TOTAL 데이터프레임 shape:(4841234, 12)\n",
      "==============================================\n"
     ]
    },
    {
     "name": "stderr",
     "output_type": "stream",
     "text": [
      " 42%|█████████████████████████████▉                                         | 56/133 [00:45<01:19,  1.03s/it]"
     ]
    },
    {
     "name": "stdout",
     "output_type": "stream",
     "text": [
      "55번째 데이터프레임 shape:(77720, 12)\n",
      "병합한 TOTAL 데이터프레임 shape:(4918954, 12)\n",
      "==============================================\n"
     ]
    },
    {
     "name": "stderr",
     "output_type": "stream",
     "text": [
      " 43%|██████████████████████████████▍                                        | 57/133 [00:47<01:42,  1.35s/it]"
     ]
    },
    {
     "name": "stdout",
     "output_type": "stream",
     "text": [
      "56번째 데이터프레임 shape:(138835, 12)\n",
      "병합한 TOTAL 데이터프레임 shape:(5057789, 12)\n",
      "==============================================\n"
     ]
    },
    {
     "name": "stderr",
     "output_type": "stream",
     "text": [
      " 44%|██████████████████████████████▉                                        | 58/133 [00:48<01:42,  1.37s/it]"
     ]
    },
    {
     "name": "stdout",
     "output_type": "stream",
     "text": [
      "57번째 데이터프레임 shape:(124906, 12)\n",
      "병합한 TOTAL 데이터프레임 shape:(5182695, 12)\n",
      "==============================================\n"
     ]
    },
    {
     "name": "stderr",
     "output_type": "stream",
     "text": [
      " 44%|███████████████████████████████▍                                       | 59/133 [00:49<01:31,  1.24s/it]"
     ]
    },
    {
     "name": "stdout",
     "output_type": "stream",
     "text": [
      "58번째 데이터프레임 shape:(74893, 12)\n",
      "병합한 TOTAL 데이터프레임 shape:(5257588, 12)\n",
      "==============================================\n"
     ]
    },
    {
     "name": "stderr",
     "output_type": "stream",
     "text": [
      " 45%|████████████████████████████████                                       | 60/133 [00:51<01:33,  1.29s/it]"
     ]
    },
    {
     "name": "stdout",
     "output_type": "stream",
     "text": [
      "59번째 데이터프레임 shape:(129768, 12)\n",
      "병합한 TOTAL 데이터프레임 shape:(5387356, 12)\n",
      "==============================================\n"
     ]
    },
    {
     "name": "stderr",
     "output_type": "stream",
     "text": [
      " 46%|████████████████████████████████▌                                      | 61/133 [00:52<01:24,  1.18s/it]"
     ]
    },
    {
     "name": "stdout",
     "output_type": "stream",
     "text": [
      "60번째 데이터프레임 shape:(49658, 12)\n",
      "병합한 TOTAL 데이터프레임 shape:(5437014, 12)\n",
      "==============================================\n"
     ]
    },
    {
     "name": "stderr",
     "output_type": "stream",
     "text": [
      " 47%|█████████████████████████████████                                      | 62/133 [00:52<01:16,  1.07s/it]"
     ]
    },
    {
     "name": "stdout",
     "output_type": "stream",
     "text": [
      "61번째 데이터프레임 shape:(47969, 12)\n",
      "병합한 TOTAL 데이터프레임 shape:(5484983, 12)\n",
      "==============================================\n"
     ]
    },
    {
     "name": "stderr",
     "output_type": "stream",
     "text": [
      " 47%|█████████████████████████████████▋                                     | 63/133 [00:54<01:19,  1.13s/it]"
     ]
    },
    {
     "name": "stdout",
     "output_type": "stream",
     "text": [
      "62번째 데이터프레임 shape:(101234, 12)\n",
      "병합한 TOTAL 데이터프레임 shape:(5586217, 12)\n",
      "==============================================\n"
     ]
    },
    {
     "name": "stderr",
     "output_type": "stream",
     "text": [
      " 48%|██████████████████████████████████▏                                    | 64/133 [00:55<01:20,  1.17s/it]"
     ]
    },
    {
     "name": "stdout",
     "output_type": "stream",
     "text": [
      "63번째 데이터프레임 shape:(102146, 12)\n",
      "병합한 TOTAL 데이터프레임 shape:(5688363, 12)\n",
      "==============================================\n"
     ]
    },
    {
     "name": "stderr",
     "output_type": "stream",
     "text": [
      " 49%|██████████████████████████████████▋                                    | 65/133 [00:56<01:20,  1.19s/it]"
     ]
    },
    {
     "name": "stdout",
     "output_type": "stream",
     "text": [
      "64번째 데이터프레임 shape:(99320, 12)\n",
      "병합한 TOTAL 데이터프레임 shape:(5787683, 12)\n",
      "==============================================\n"
     ]
    },
    {
     "name": "stderr",
     "output_type": "stream",
     "text": [
      " 50%|███████████████████████████████████▏                                   | 66/133 [00:57<01:21,  1.21s/it]"
     ]
    },
    {
     "name": "stdout",
     "output_type": "stream",
     "text": [
      "65번째 데이터프레임 shape:(96935, 12)\n",
      "병합한 TOTAL 데이터프레임 shape:(5884618, 12)\n",
      "==============================================\n"
     ]
    },
    {
     "name": "stderr",
     "output_type": "stream",
     "text": [
      " 50%|███████████████████████████████████▊                                   | 67/133 [00:59<01:20,  1.22s/it]"
     ]
    },
    {
     "name": "stdout",
     "output_type": "stream",
     "text": [
      "66번째 데이터프레임 shape:(100453, 12)\n",
      "병합한 TOTAL 데이터프레임 shape:(5985071, 12)\n",
      "==============================================\n"
     ]
    },
    {
     "name": "stderr",
     "output_type": "stream",
     "text": [
      " 51%|████████████████████████████████████▎                                  | 68/133 [01:00<01:20,  1.23s/it]"
     ]
    },
    {
     "name": "stdout",
     "output_type": "stream",
     "text": [
      "67번째 데이터프레임 shape:(98712, 12)\n",
      "병합한 TOTAL 데이터프레임 shape:(6083783, 12)\n",
      "==============================================\n"
     ]
    },
    {
     "name": "stderr",
     "output_type": "stream",
     "text": [
      " 52%|████████████████████████████████████▊                                  | 69/133 [01:01<01:12,  1.14s/it]"
     ]
    },
    {
     "name": "stdout",
     "output_type": "stream",
     "text": [
      "68번째 데이터프레임 shape:(49426, 12)\n",
      "병합한 TOTAL 데이터프레임 shape:(6133209, 12)\n",
      "==============================================\n"
     ]
    },
    {
     "name": "stderr",
     "output_type": "stream",
     "text": [
      " 53%|█████████████████████████████████████▎                                 | 70/133 [01:02<01:09,  1.11s/it]"
     ]
    },
    {
     "name": "stdout",
     "output_type": "stream",
     "text": [
      "69번째 데이터프레임 shape:(80790, 12)\n",
      "병합한 TOTAL 데이터프레임 shape:(6213999, 12)\n",
      "==============================================\n"
     ]
    },
    {
     "name": "stderr",
     "output_type": "stream",
     "text": [
      " 53%|█████████████████████████████████████▉                                 | 71/133 [01:03<01:07,  1.08s/it]"
     ]
    },
    {
     "name": "stdout",
     "output_type": "stream",
     "text": [
      "70번째 데이터프레임 shape:(71663, 12)\n",
      "병합한 TOTAL 데이터프레임 shape:(6285662, 12)\n",
      "==============================================\n"
     ]
    },
    {
     "name": "stderr",
     "output_type": "stream",
     "text": [
      " 54%|██████████████████████████████████████▍                                | 72/133 [01:04<01:03,  1.04s/it]"
     ]
    },
    {
     "name": "stdout",
     "output_type": "stream",
     "text": [
      "71번째 데이터프레임 shape:(46019, 12)\n",
      "병합한 TOTAL 데이터프레임 shape:(6331681, 12)\n",
      "==============================================\n"
     ]
    },
    {
     "name": "stderr",
     "output_type": "stream",
     "text": [
      " 55%|██████████████████████████████████████▉                                | 73/133 [01:05<01:07,  1.12s/it]"
     ]
    },
    {
     "name": "stdout",
     "output_type": "stream",
     "text": [
      "72번째 데이터프레임 shape:(102433, 12)\n",
      "병합한 TOTAL 데이터프레임 shape:(6434114, 12)\n",
      "==============================================\n"
     ]
    },
    {
     "name": "stderr",
     "output_type": "stream",
     "text": [
      " 56%|███████████████████████████████████████▌                               | 74/133 [01:06<01:08,  1.17s/it]"
     ]
    },
    {
     "name": "stdout",
     "output_type": "stream",
     "text": [
      "73번째 데이터프레임 shape:(104080, 12)\n",
      "병합한 TOTAL 데이터프레임 shape:(6538194, 12)\n",
      "==============================================\n"
     ]
    },
    {
     "name": "stderr",
     "output_type": "stream",
     "text": [
      " 56%|████████████████████████████████████████                               | 75/133 [01:08<01:14,  1.28s/it]"
     ]
    },
    {
     "name": "stdout",
     "output_type": "stream",
     "text": [
      "74번째 데이터프레임 shape:(123641, 12)\n",
      "병합한 TOTAL 데이터프레임 shape:(6661835, 12)\n",
      "==============================================\n"
     ]
    },
    {
     "name": "stderr",
     "output_type": "stream",
     "text": [
      " 57%|████████████████████████████████████████▌                              | 76/133 [01:09<01:15,  1.33s/it]"
     ]
    },
    {
     "name": "stdout",
     "output_type": "stream",
     "text": [
      "75번째 데이터프레임 shape:(120924, 12)\n",
      "병합한 TOTAL 데이터프레임 shape:(6782759, 12)\n",
      "==============================================\n"
     ]
    },
    {
     "name": "stderr",
     "output_type": "stream",
     "text": [
      " 58%|█████████████████████████████████████████                              | 77/133 [01:10<01:08,  1.22s/it]"
     ]
    },
    {
     "name": "stdout",
     "output_type": "stream",
     "text": [
      "76번째 데이터프레임 shape:(46579, 12)\n",
      "병합한 TOTAL 데이터프레임 shape:(6829338, 12)\n",
      "==============================================\n"
     ]
    },
    {
     "name": "stderr",
     "output_type": "stream",
     "text": [
      " 59%|█████████████████████████████████████████▋                             | 78/133 [01:12<01:05,  1.19s/it]"
     ]
    },
    {
     "name": "stdout",
     "output_type": "stream",
     "text": [
      "77번째 데이터프레임 shape:(78953, 12)\n",
      "병합한 TOTAL 데이터프레임 shape:(6908291, 12)\n",
      "==============================================\n"
     ]
    },
    {
     "name": "stderr",
     "output_type": "stream",
     "text": [
      " 59%|██████████████████████████████████████████▏                            | 79/133 [01:13<01:08,  1.28s/it]"
     ]
    },
    {
     "name": "stdout",
     "output_type": "stream",
     "text": [
      "78번째 데이터프레임 shape:(112310, 12)\n",
      "병합한 TOTAL 데이터프레임 shape:(7020601, 12)\n",
      "==============================================\n"
     ]
    },
    {
     "name": "stderr",
     "output_type": "stream",
     "text": [
      " 60%|██████████████████████████████████████████▋                            | 80/133 [01:15<01:12,  1.36s/it]"
     ]
    },
    {
     "name": "stdout",
     "output_type": "stream",
     "text": [
      "79번째 데이터프레임 shape:(109039, 12)\n",
      "병합한 TOTAL 데이터프레임 shape:(7129640, 12)\n",
      "==============================================\n"
     ]
    },
    {
     "name": "stderr",
     "output_type": "stream",
     "text": [
      " 61%|███████████████████████████████████████████▏                           | 81/133 [01:16<01:12,  1.39s/it]"
     ]
    },
    {
     "name": "stdout",
     "output_type": "stream",
     "text": [
      "80번째 데이터프레임 shape:(104539, 12)\n",
      "병합한 TOTAL 데이터프레임 shape:(7234179, 12)\n",
      "==============================================\n"
     ]
    },
    {
     "name": "stderr",
     "output_type": "stream",
     "text": [
      " 62%|███████████████████████████████████████████▊                           | 82/133 [01:18<01:18,  1.55s/it]"
     ]
    },
    {
     "name": "stdout",
     "output_type": "stream",
     "text": [
      "81번째 데이터프레임 shape:(165674, 12)\n",
      "병합한 TOTAL 데이터프레임 shape:(7399853, 12)\n",
      "==============================================\n"
     ]
    },
    {
     "name": "stderr",
     "output_type": "stream",
     "text": [
      " 62%|████████████████████████████████████████████▎                          | 83/133 [01:19<01:07,  1.35s/it]"
     ]
    },
    {
     "name": "stdout",
     "output_type": "stream",
     "text": [
      "82번째 데이터프레임 shape:(21114, 12)\n",
      "병합한 TOTAL 데이터프레임 shape:(7420967, 12)\n",
      "==============================================\n"
     ]
    },
    {
     "name": "stderr",
     "output_type": "stream",
     "text": [
      " 63%|████████████████████████████████████████████▊                          | 84/133 [01:20<01:00,  1.23s/it]"
     ]
    },
    {
     "name": "stdout",
     "output_type": "stream",
     "text": [
      "83번째 데이터프레임 shape:(36374, 12)\n",
      "병합한 TOTAL 데이터프레임 shape:(7457341, 12)\n",
      "==============================================\n"
     ]
    },
    {
     "name": "stderr",
     "output_type": "stream",
     "text": [
      " 64%|█████████████████████████████████████████████▍                         | 85/133 [01:21<00:59,  1.25s/it]"
     ]
    },
    {
     "name": "stdout",
     "output_type": "stream",
     "text": [
      "84번째 데이터프레임 shape:(95456, 12)\n",
      "병합한 TOTAL 데이터프레임 shape:(7552797, 12)\n",
      "==============================================\n"
     ]
    },
    {
     "name": "stderr",
     "output_type": "stream",
     "text": [
      " 65%|█████████████████████████████████████████████▉                         | 86/133 [01:22<01:00,  1.28s/it]"
     ]
    },
    {
     "name": "stdout",
     "output_type": "stream",
     "text": [
      "85번째 데이터프레임 shape:(91360, 12)\n",
      "병합한 TOTAL 데이터프레임 shape:(7644157, 12)\n",
      "==============================================\n"
     ]
    },
    {
     "name": "stderr",
     "output_type": "stream",
     "text": [
      " 65%|██████████████████████████████████████████████▍                        | 87/133 [01:24<01:00,  1.32s/it]"
     ]
    },
    {
     "name": "stdout",
     "output_type": "stream",
     "text": [
      "86번째 데이터프레임 shape:(98678, 12)\n",
      "병합한 TOTAL 데이터프레임 shape:(7742835, 12)\n",
      "==============================================\n"
     ]
    },
    {
     "name": "stderr",
     "output_type": "stream",
     "text": [
      " 66%|██████████████████████████████████████████████▉                        | 88/133 [01:25<01:00,  1.34s/it]"
     ]
    },
    {
     "name": "stdout",
     "output_type": "stream",
     "text": [
      "87번째 데이터프레임 shape:(101511, 12)\n",
      "병합한 TOTAL 데이터프레임 shape:(7844346, 12)\n",
      "==============================================\n"
     ]
    },
    {
     "name": "stderr",
     "output_type": "stream",
     "text": [
      " 67%|███████████████████████████████████████████████▌                       | 89/133 [01:27<01:04,  1.47s/it]"
     ]
    },
    {
     "name": "stdout",
     "output_type": "stream",
     "text": [
      "88번째 데이터프레임 shape:(135385, 12)\n",
      "병합한 TOTAL 데이터프레임 shape:(7979731, 12)\n",
      "==============================================\n"
     ]
    },
    {
     "name": "stderr",
     "output_type": "stream",
     "text": [
      " 68%|████████████████████████████████████████████████                       | 90/133 [01:28<00:59,  1.38s/it]"
     ]
    },
    {
     "name": "stdout",
     "output_type": "stream",
     "text": [
      "89번째 데이터프레임 shape:(60401, 12)\n",
      "병합한 TOTAL 데이터프레임 shape:(8040132, 12)\n",
      "==============================================\n"
     ]
    },
    {
     "name": "stderr",
     "output_type": "stream",
     "text": [
      " 68%|████████████████████████████████████████████████▌                      | 91/133 [01:30<00:59,  1.42s/it]"
     ]
    },
    {
     "name": "stdout",
     "output_type": "stream",
     "text": [
      "90번째 데이터프레임 shape:(101020, 12)\n",
      "병합한 TOTAL 데이터프레임 shape:(8141152, 12)\n",
      "==============================================\n"
     ]
    },
    {
     "name": "stderr",
     "output_type": "stream",
     "text": [
      " 69%|█████████████████████████████████████████████████                      | 92/133 [01:31<01:01,  1.50s/it]"
     ]
    },
    {
     "name": "stdout",
     "output_type": "stream",
     "text": [
      "91번째 데이터프레임 shape:(125194, 12)\n",
      "병합한 TOTAL 데이터프레임 shape:(8266346, 12)\n",
      "==============================================\n"
     ]
    },
    {
     "name": "stderr",
     "output_type": "stream",
     "text": [
      " 70%|█████████████████████████████████████████████████▋                     | 93/133 [01:33<01:02,  1.57s/it]"
     ]
    },
    {
     "name": "stdout",
     "output_type": "stream",
     "text": [
      "92번째 데이터프레임 shape:(115502, 12)\n",
      "병합한 TOTAL 데이터프레임 shape:(8381848, 12)\n",
      "==============================================\n"
     ]
    },
    {
     "name": "stderr",
     "output_type": "stream",
     "text": [
      " 71%|██████████████████████████████████████████████████▏                    | 94/133 [01:35<00:59,  1.54s/it]"
     ]
    },
    {
     "name": "stdout",
     "output_type": "stream",
     "text": [
      "93번째 데이터프레임 shape:(94887, 12)\n",
      "병합한 TOTAL 데이터프레임 shape:(8476735, 12)\n",
      "==============================================\n"
     ]
    },
    {
     "name": "stderr",
     "output_type": "stream",
     "text": [
      " 71%|██████████████████████████████████████████████████▋                    | 95/133 [01:36<00:53,  1.41s/it]"
     ]
    },
    {
     "name": "stdout",
     "output_type": "stream",
     "text": [
      "94번째 데이터프레임 shape:(36291, 12)\n",
      "병합한 TOTAL 데이터프레임 shape:(8513026, 12)\n",
      "==============================================\n"
     ]
    },
    {
     "name": "stderr",
     "output_type": "stream",
     "text": [
      " 72%|███████████████████████████████████████████████████▏                   | 96/133 [01:37<00:50,  1.35s/it]"
     ]
    },
    {
     "name": "stdout",
     "output_type": "stream",
     "text": [
      "95번째 데이터프레임 shape:(53276, 12)\n",
      "병합한 TOTAL 데이터프레임 shape:(8566302, 12)\n",
      "==============================================\n"
     ]
    },
    {
     "name": "stderr",
     "output_type": "stream",
     "text": [
      " 73%|███████████████████████████████████████████████████▊                   | 97/133 [01:39<00:52,  1.47s/it]"
     ]
    },
    {
     "name": "stdout",
     "output_type": "stream",
     "text": [
      "96번째 데이터프레임 shape:(124147, 12)\n",
      "병합한 TOTAL 데이터프레임 shape:(8690449, 12)\n",
      "==============================================\n"
     ]
    },
    {
     "name": "stderr",
     "output_type": "stream",
     "text": [
      " 74%|████████████████████████████████████████████████████▎                  | 98/133 [01:40<00:54,  1.55s/it]"
     ]
    },
    {
     "name": "stdout",
     "output_type": "stream",
     "text": [
      "97번째 데이터프레임 shape:(127259, 12)\n",
      "병합한 TOTAL 데이터프레임 shape:(8817708, 12)\n",
      "==============================================\n"
     ]
    },
    {
     "name": "stderr",
     "output_type": "stream",
     "text": [
      " 74%|████████████████████████████████████████████████████▊                  | 99/133 [01:42<00:57,  1.69s/it]"
     ]
    },
    {
     "name": "stdout",
     "output_type": "stream",
     "text": [
      "98번째 데이터프레임 shape:(149109, 12)\n",
      "병합한 TOTAL 데이터프레임 shape:(8966817, 12)\n",
      "==============================================\n"
     ]
    },
    {
     "name": "stderr",
     "output_type": "stream",
     "text": [
      " 75%|████████████████████████████████████████████████████▋                 | 100/133 [01:44<00:58,  1.79s/it]"
     ]
    },
    {
     "name": "stdout",
     "output_type": "stream",
     "text": [
      "99번째 데이터프레임 shape:(153639, 12)\n",
      "병합한 TOTAL 데이터프레임 shape:(9120456, 12)\n",
      "==============================================\n"
     ]
    },
    {
     "name": "stderr",
     "output_type": "stream",
     "text": [
      " 76%|█████████████████████████████████████████████████████▏                | 101/133 [01:46<00:52,  1.63s/it]"
     ]
    },
    {
     "name": "stdout",
     "output_type": "stream",
     "text": [
      "100번째 데이터프레임 shape:(45980, 12)\n",
      "병합한 TOTAL 데이터프레임 shape:(9166436, 12)\n",
      "==============================================\n"
     ]
    },
    {
     "name": "stderr",
     "output_type": "stream",
     "text": [
      " 77%|█████████████████████████████████████████████████████▋                | 102/133 [01:47<00:49,  1.60s/it]"
     ]
    },
    {
     "name": "stdout",
     "output_type": "stream",
     "text": [
      "101번째 데이터프레임 shape:(106926, 12)\n",
      "병합한 TOTAL 데이터프레임 shape:(9273362, 12)\n",
      "==============================================\n"
     ]
    },
    {
     "name": "stderr",
     "output_type": "stream",
     "text": [
      " 77%|██████████████████████████████████████████████████████▏               | 103/133 [01:49<00:45,  1.52s/it]"
     ]
    },
    {
     "name": "stdout",
     "output_type": "stream",
     "text": [
      "102번째 데이터프레임 shape:(72554, 12)\n",
      "병합한 TOTAL 데이터프레임 shape:(9345916, 12)\n",
      "==============================================\n"
     ]
    },
    {
     "name": "stderr",
     "output_type": "stream",
     "text": [
      " 78%|██████████████████████████████████████████████████████▋               | 104/133 [01:50<00:43,  1.49s/it]"
     ]
    },
    {
     "name": "stdout",
     "output_type": "stream",
     "text": [
      "103번째 데이터프레임 shape:(70417, 12)\n",
      "병합한 TOTAL 데이터프레임 shape:(9416333, 12)\n",
      "==============================================\n"
     ]
    },
    {
     "name": "stderr",
     "output_type": "stream",
     "text": [
      " 79%|███████████████████████████████████████████████████████▎              | 105/133 [01:52<00:43,  1.57s/it]"
     ]
    },
    {
     "name": "stdout",
     "output_type": "stream",
     "text": [
      "104번째 데이터프레임 shape:(115014, 12)\n",
      "병합한 TOTAL 데이터프레임 shape:(9531347, 12)\n",
      "==============================================\n"
     ]
    },
    {
     "name": "stderr",
     "output_type": "stream",
     "text": [
      " 80%|███████████████████████████████████████████████████████▊              | 106/133 [01:53<00:40,  1.49s/it]"
     ]
    },
    {
     "name": "stdout",
     "output_type": "stream",
     "text": [
      "105번째 데이터프레임 shape:(51426, 12)\n",
      "병합한 TOTAL 데이터프레임 shape:(9582773, 12)\n",
      "==============================================\n"
     ]
    },
    {
     "name": "stderr",
     "output_type": "stream",
     "text": [
      " 80%|████████████████████████████████████████████████████████▎             | 107/133 [01:55<00:41,  1.61s/it]"
     ]
    },
    {
     "name": "stdout",
     "output_type": "stream",
     "text": [
      "106번째 데이터프레임 shape:(135081, 12)\n",
      "병합한 TOTAL 데이터프레임 shape:(9717854, 12)\n",
      "==============================================\n"
     ]
    },
    {
     "name": "stderr",
     "output_type": "stream",
     "text": [
      " 81%|████████████████████████████████████████████████████████▊             | 108/133 [01:57<00:43,  1.73s/it]"
     ]
    },
    {
     "name": "stdout",
     "output_type": "stream",
     "text": [
      "107번째 데이터프레임 shape:(140338, 12)\n",
      "병합한 TOTAL 데이터프레임 shape:(9858192, 12)\n",
      "==============================================\n"
     ]
    },
    {
     "name": "stderr",
     "output_type": "stream",
     "text": [
      " 82%|█████████████████████████████████████████████████████████▎            | 109/133 [01:58<00:38,  1.62s/it]"
     ]
    },
    {
     "name": "stdout",
     "output_type": "stream",
     "text": [
      "108번째 데이터프레임 shape:(59621, 12)\n",
      "병합한 TOTAL 데이터프레임 shape:(9917813, 12)\n",
      "==============================================\n"
     ]
    },
    {
     "name": "stderr",
     "output_type": "stream",
     "text": [
      " 83%|█████████████████████████████████████████████████████████▉            | 110/133 [02:00<00:38,  1.66s/it]"
     ]
    },
    {
     "name": "stdout",
     "output_type": "stream",
     "text": [
      "109번째 데이터프레임 shape:(108578, 12)\n",
      "병합한 TOTAL 데이터프레임 shape:(10026391, 12)\n",
      "==============================================\n"
     ]
    },
    {
     "name": "stderr",
     "output_type": "stream",
     "text": [
      " 83%|██████████████████████████████████████████████████████████▍           | 111/133 [02:01<00:35,  1.59s/it]"
     ]
    },
    {
     "name": "stdout",
     "output_type": "stream",
     "text": [
      "110번째 데이터프레임 shape:(75754, 12)\n",
      "병합한 TOTAL 데이터프레임 shape:(10102145, 12)\n",
      "==============================================\n"
     ]
    },
    {
     "name": "stderr",
     "output_type": "stream",
     "text": [
      " 84%|██████████████████████████████████████████████████████████▉           | 112/133 [02:03<00:30,  1.47s/it]"
     ]
    },
    {
     "name": "stdout",
     "output_type": "stream",
     "text": [
      "111번째 데이터프레임 shape:(27553, 12)\n",
      "병합한 TOTAL 데이터프레임 shape:(10129698, 12)\n",
      "==============================================\n"
     ]
    },
    {
     "name": "stderr",
     "output_type": "stream",
     "text": [
      " 85%|███████████████████████████████████████████████████████████▍          | 113/133 [02:04<00:31,  1.57s/it]"
     ]
    },
    {
     "name": "stdout",
     "output_type": "stream",
     "text": [
      "112번째 데이터프레임 shape:(110873, 12)\n",
      "병합한 TOTAL 데이터프레임 shape:(10240571, 12)\n",
      "==============================================\n"
     ]
    },
    {
     "name": "stderr",
     "output_type": "stream",
     "text": [
      " 86%|████████████████████████████████████████████████████████████          | 114/133 [02:06<00:30,  1.62s/it]"
     ]
    },
    {
     "name": "stdout",
     "output_type": "stream",
     "text": [
      "113번째 데이터프레임 shape:(103836, 12)\n",
      "병합한 TOTAL 데이터프레임 shape:(10344407, 12)\n",
      "==============================================\n"
     ]
    },
    {
     "name": "stderr",
     "output_type": "stream",
     "text": [
      " 86%|████████████████████████████████████████████████████████████▌         | 115/133 [02:08<00:31,  1.74s/it]"
     ]
    },
    {
     "name": "stdout",
     "output_type": "stream",
     "text": [
      "114번째 데이터프레임 shape:(129073, 12)\n",
      "병합한 TOTAL 데이터프레임 shape:(10473480, 12)\n",
      "==============================================\n"
     ]
    },
    {
     "name": "stderr",
     "output_type": "stream",
     "text": [
      " 87%|█████████████████████████████████████████████████████████████         | 116/133 [02:10<00:27,  1.61s/it]"
     ]
    },
    {
     "name": "stdout",
     "output_type": "stream",
     "text": [
      "115번째 데이터프레임 shape:(39732, 12)\n",
      "병합한 TOTAL 데이터프레임 shape:(10513212, 12)\n",
      "==============================================\n"
     ]
    },
    {
     "name": "stderr",
     "output_type": "stream",
     "text": [
      " 88%|█████████████████████████████████████████████████████████████▌        | 117/133 [02:11<00:25,  1.61s/it]"
     ]
    },
    {
     "name": "stdout",
     "output_type": "stream",
     "text": [
      "116번째 데이터프레임 shape:(98461, 12)\n",
      "병합한 TOTAL 데이터프레임 shape:(10611673, 12)\n",
      "==============================================\n"
     ]
    },
    {
     "name": "stderr",
     "output_type": "stream",
     "text": [
      " 89%|██████████████████████████████████████████████████████████████        | 118/133 [02:13<00:25,  1.73s/it]"
     ]
    },
    {
     "name": "stdout",
     "output_type": "stream",
     "text": [
      "117번째 데이터프레임 shape:(139367, 12)\n",
      "병합한 TOTAL 데이터프레임 shape:(10751040, 12)\n",
      "==============================================\n"
     ]
    },
    {
     "name": "stderr",
     "output_type": "stream",
     "text": [
      " 89%|██████████████████████████████████████████████████████████████▋       | 119/133 [02:15<00:24,  1.72s/it]"
     ]
    },
    {
     "name": "stdout",
     "output_type": "stream",
     "text": [
      "118번째 데이터프레임 shape:(95976, 12)\n",
      "병합한 TOTAL 데이터프레임 shape:(10847016, 12)\n",
      "==============================================\n"
     ]
    },
    {
     "name": "stderr",
     "output_type": "stream",
     "text": [
      " 90%|███████████████████████████████████████████████████████████████▏      | 120/133 [02:16<00:21,  1.65s/it]"
     ]
    },
    {
     "name": "stdout",
     "output_type": "stream",
     "text": [
      "119번째 데이터프레임 shape:(50685, 12)\n",
      "병합한 TOTAL 데이터프레임 shape:(10897701, 12)\n",
      "==============================================\n"
     ]
    },
    {
     "name": "stderr",
     "output_type": "stream",
     "text": [
      " 91%|███████████████████████████████████████████████████████████████▋      | 121/133 [02:18<00:18,  1.53s/it]"
     ]
    },
    {
     "name": "stdout",
     "output_type": "stream",
     "text": [
      "120번째 데이터프레임 shape:(14145, 12)\n",
      "병합한 TOTAL 데이터프레임 shape:(10911846, 12)\n",
      "==============================================\n"
     ]
    },
    {
     "name": "stderr",
     "output_type": "stream",
     "text": [
      " 92%|████████████████████████████████████████████████████████████████▏     | 122/133 [02:20<00:18,  1.71s/it]"
     ]
    },
    {
     "name": "stdout",
     "output_type": "stream",
     "text": [
      "121번째 데이터프레임 shape:(140853, 12)\n",
      "병합한 TOTAL 데이터프레임 shape:(11052699, 12)\n",
      "==============================================\n"
     ]
    },
    {
     "name": "stderr",
     "output_type": "stream",
     "text": [
      " 92%|████████████████████████████████████████████████████████████████▋     | 123/133 [02:21<00:16,  1.60s/it]"
     ]
    },
    {
     "name": "stdout",
     "output_type": "stream",
     "text": [
      "122번째 데이터프레임 shape:(37294, 12)\n",
      "병합한 TOTAL 데이터프레임 shape:(11089993, 12)\n",
      "==============================================\n"
     ]
    },
    {
     "name": "stderr",
     "output_type": "stream",
     "text": [
      " 93%|█████████████████████████████████████████████████████████████████▎    | 124/133 [02:22<00:13,  1.54s/it]"
     ]
    },
    {
     "name": "stdout",
     "output_type": "stream",
     "text": [
      "123번째 데이터프레임 shape:(41569, 12)\n",
      "병합한 TOTAL 데이터프레임 shape:(11131562, 12)\n",
      "==============================================\n"
     ]
    },
    {
     "name": "stderr",
     "output_type": "stream",
     "text": [
      " 94%|█████████████████████████████████████████████████████████████████▊    | 125/133 [02:24<00:11,  1.45s/it]"
     ]
    },
    {
     "name": "stdout",
     "output_type": "stream",
     "text": [
      "124번째 데이터프레임 shape:(24522, 12)\n",
      "병합한 TOTAL 데이터프레임 shape:(11156084, 12)\n",
      "==============================================\n"
     ]
    },
    {
     "name": "stderr",
     "output_type": "stream",
     "text": [
      " 95%|██████████████████████████████████████████████████████████████████▎   | 126/133 [02:25<00:10,  1.55s/it]"
     ]
    },
    {
     "name": "stdout",
     "output_type": "stream",
     "text": [
      "125번째 데이터프레임 shape:(94684, 12)\n",
      "병합한 TOTAL 데이터프레임 shape:(11250768, 12)\n",
      "==============================================\n"
     ]
    },
    {
     "name": "stderr",
     "output_type": "stream",
     "text": [
      " 95%|██████████████████████████████████████████████████████████████████▊   | 127/133 [02:27<00:10,  1.68s/it]"
     ]
    },
    {
     "name": "stdout",
     "output_type": "stream",
     "text": [
      "126번째 데이터프레임 shape:(114685, 12)\n",
      "병합한 TOTAL 데이터프레임 shape:(11365453, 12)\n",
      "==============================================\n"
     ]
    },
    {
     "name": "stderr",
     "output_type": "stream",
     "text": [
      " 96%|███████████████████████████████████████████████████████████████████▎  | 128/133 [02:29<00:08,  1.79s/it]"
     ]
    },
    {
     "name": "stdout",
     "output_type": "stream",
     "text": [
      "127번째 데이터프레임 shape:(122902, 12)\n",
      "병합한 TOTAL 데이터프레임 shape:(11488355, 12)\n",
      "==============================================\n"
     ]
    },
    {
     "name": "stderr",
     "output_type": "stream",
     "text": [
      " 97%|███████████████████████████████████████████████████████████████████▉  | 129/133 [02:31<00:07,  1.78s/it]"
     ]
    },
    {
     "name": "stdout",
     "output_type": "stream",
     "text": [
      "128번째 데이터프레임 shape:(93912, 12)\n",
      "병합한 TOTAL 데이터프레임 shape:(11582267, 12)\n",
      "==============================================\n"
     ]
    },
    {
     "name": "stderr",
     "output_type": "stream",
     "text": [
      " 98%|████████████████████████████████████████████████████████████████████▍ | 130/133 [02:33<00:05,  1.89s/it]"
     ]
    },
    {
     "name": "stdout",
     "output_type": "stream",
     "text": [
      "129번째 데이터프레임 shape:(142557, 12)\n",
      "병합한 TOTAL 데이터프레임 shape:(11724824, 12)\n",
      "==============================================\n"
     ]
    },
    {
     "name": "stderr",
     "output_type": "stream",
     "text": [
      " 98%|████████████████████████████████████████████████████████████████████▉ | 131/133 [02:35<00:03,  1.78s/it]"
     ]
    },
    {
     "name": "stdout",
     "output_type": "stream",
     "text": [
      "130번째 데이터프레임 shape:(52942, 12)\n",
      "병합한 TOTAL 데이터프레임 shape:(11777766, 12)\n",
      "==============================================\n"
     ]
    },
    {
     "name": "stderr",
     "output_type": "stream",
     "text": [
      " 99%|█████████████████████████████████████████████████████████████████████▍| 132/133 [02:37<00:01,  1.78s/it]"
     ]
    },
    {
     "name": "stdout",
     "output_type": "stream",
     "text": [
      "131번째 데이터프레임 shape:(91559, 12)\n",
      "병합한 TOTAL 데이터프레임 shape:(11869325, 12)\n",
      "==============================================\n"
     ]
    },
    {
     "name": "stderr",
     "output_type": "stream",
     "text": [
      "100%|██████████████████████████████████████████████████████████████████████| 133/133 [02:38<00:00,  1.19s/it]"
     ]
    },
    {
     "name": "stdout",
     "output_type": "stream",
     "text": [
      "132번째 데이터프레임 shape:(91580, 12)\n",
      "병합한 TOTAL 데이터프레임 shape:(11960905, 12)\n",
      "==============================================\n"
     ]
    },
    {
     "name": "stderr",
     "output_type": "stream",
     "text": [
      "\n"
     ]
    },
    {
     "data": {
      "text/html": [
       "<div>\n",
       "<style scoped>\n",
       "    .dataframe tbody tr th:only-of-type {\n",
       "        vertical-align: middle;\n",
       "    }\n",
       "\n",
       "    .dataframe tbody tr th {\n",
       "        vertical-align: top;\n",
       "    }\n",
       "\n",
       "    .dataframe thead th {\n",
       "        text-align: right;\n",
       "    }\n",
       "</style>\n",
       "<table border=\"1\" class=\"dataframe\">\n",
       "  <thead>\n",
       "    <tr style=\"text-align: right;\">\n",
       "      <th></th>\n",
       "      <th>seq</th>\n",
       "      <th>신고유형</th>\n",
       "      <th>스팸유형</th>\n",
       "      <th>회신번호</th>\n",
       "      <th>원발신번호</th>\n",
       "      <th>중계사</th>\n",
       "      <th>수신시간</th>\n",
       "      <th>신고시간</th>\n",
       "      <th>메시지</th>\n",
       "      <th>메시지 타입</th>\n",
       "      <th>저장시간</th>\n",
       "      <th>파일이름</th>\n",
       "    </tr>\n",
       "  </thead>\n",
       "  <tbody>\n",
       "    <tr>\n",
       "      <th>0</th>\n",
       "      <td>75166435</td>\n",
       "      <td>문자</td>\n",
       "      <td>비스팸</td>\n",
       "      <td>01048164736</td>\n",
       "      <td>1528900294</td>\n",
       "      <td>KT</td>\n",
       "      <td>2022-09-27 23:21</td>\n",
       "      <td>2022-09-27 18:21</td>\n",
       "      <td>[Web발신](광고)**님 안녕하세요. 9월 얼마남지 않은 기간에,\"10원짜리 문자...</td>\n",
       "      <td>SMS</td>\n",
       "      <td>2022-09-28 00:10:01</td>\n",
       "      <td>KISA_20220928_0000.csv</td>\n",
       "    </tr>\n",
       "    <tr>\n",
       "      <th>1</th>\n",
       "      <td>75166438</td>\n",
       "      <td>문자</td>\n",
       "      <td>도박</td>\n",
       "      <td>01062405771</td>\n",
       "      <td>1571818139</td>\n",
       "      <td>스탠다드네트웍스</td>\n",
       "      <td>2022-09-27 23:21</td>\n",
       "      <td>2022-09-27 17:51</td>\n",
       "      <td>[Web발신](광고) Art 아트카) 신규감사쿠폰지) 330,000원노) vrn③....</td>\n",
       "      <td>SMS</td>\n",
       "      <td>2022-09-28 00:10:01</td>\n",
       "      <td>KISA_20220928_0000.csv</td>\n",
       "    </tr>\n",
       "    <tr>\n",
       "      <th>2</th>\n",
       "      <td>75166441</td>\n",
       "      <td>문자</td>\n",
       "      <td>성인</td>\n",
       "      <td>01058802861</td>\n",
       "      <td>01058802861</td>\n",
       "      <td>NaN</td>\n",
       "      <td>2022-09-27 23:21</td>\n",
       "      <td>2022-09-27 18:25</td>\n",
       "      <td>MMS 스팸신고[Web발신](광고)■ 신청주신 500 한정으로 보내는드리 초대권입니...</td>\n",
       "      <td>MMS</td>\n",
       "      <td>2022-09-28 00:10:01</td>\n",
       "      <td>KISA_20220928_0000.csv</td>\n",
       "    </tr>\n",
       "    <tr>\n",
       "      <th>3</th>\n",
       "      <td>75166444</td>\n",
       "      <td>문자</td>\n",
       "      <td>비스팸</td>\n",
       "      <td>01048164736</td>\n",
       "      <td>01029214697</td>\n",
       "      <td>KT</td>\n",
       "      <td>2022-09-27 23:21</td>\n",
       "      <td>2022-09-27 18:33</td>\n",
       "      <td>[Web발신](광고)\\n**님 안녕하세요. 9월 얼마남지 않은 기간에,\\n\"10원짜...</td>\n",
       "      <td>SMS</td>\n",
       "      <td>2022-09-28 00:10:01</td>\n",
       "      <td>KISA_20220928_0000.csv</td>\n",
       "    </tr>\n",
       "    <tr>\n",
       "      <th>4</th>\n",
       "      <td>75166447</td>\n",
       "      <td>문자</td>\n",
       "      <td>성인</td>\n",
       "      <td>01047321078</td>\n",
       "      <td>1528801434</td>\n",
       "      <td>다우기술</td>\n",
       "      <td>2022-09-27 23:21</td>\n",
       "      <td>2022-09-25 11:45</td>\n",
       "      <td>[Web발신](광고) (주) BIT 연구소현재 시장은 평생에 한번 올까말까하는일생일...</td>\n",
       "      <td>SMS</td>\n",
       "      <td>2022-09-28 00:10:01</td>\n",
       "      <td>KISA_20220928_0000.csv</td>\n",
       "    </tr>\n",
       "    <tr>\n",
       "      <th>...</th>\n",
       "      <td>...</td>\n",
       "      <td>...</td>\n",
       "      <td>...</td>\n",
       "      <td>...</td>\n",
       "      <td>...</td>\n",
       "      <td>...</td>\n",
       "      <td>...</td>\n",
       "      <td>...</td>\n",
       "      <td>...</td>\n",
       "      <td>...</td>\n",
       "      <td>...</td>\n",
       "      <td>...</td>\n",
       "    </tr>\n",
       "    <tr>\n",
       "      <th>11960900</th>\n",
       "      <td>80066776</td>\n",
       "      <td>음성(녹음)</td>\n",
       "      <td>기타</td>\n",
       "      <td>01051892611</td>\n",
       "      <td>01051892611</td>\n",
       "      <td>NaN</td>\n",
       "      <td>2022-10-14 23:26</td>\n",
       "      <td>2022-10-14 23:00</td>\n",
       "      <td>음성 스팸신고\\nVoiceCall/음성통화</td>\n",
       "      <td>음성</td>\n",
       "      <td>2022-10-14 23:40:01</td>\n",
       "      <td>KISA_20221014_2330.csv</td>\n",
       "    </tr>\n",
       "    <tr>\n",
       "      <th>11960901</th>\n",
       "      <td>80066779</td>\n",
       "      <td>음성(녹음)</td>\n",
       "      <td>기타</td>\n",
       "      <td>01051892611</td>\n",
       "      <td>01051892611</td>\n",
       "      <td>NaN</td>\n",
       "      <td>2022-10-14 23:26</td>\n",
       "      <td>2022-10-14 23:02</td>\n",
       "      <td>음성 스팸신고\\nVoiceCall/음성통화</td>\n",
       "      <td>음성</td>\n",
       "      <td>2022-10-14 23:40:01</td>\n",
       "      <td>KISA_20221014_2330.csv</td>\n",
       "    </tr>\n",
       "    <tr>\n",
       "      <th>11960902</th>\n",
       "      <td>80066782</td>\n",
       "      <td>음성(녹음)</td>\n",
       "      <td>기타</td>\n",
       "      <td>01051892611</td>\n",
       "      <td>01051892611</td>\n",
       "      <td>NaN</td>\n",
       "      <td>2022-10-14 23:26</td>\n",
       "      <td>2022-10-14 22:58</td>\n",
       "      <td>음성 스팸신고\\nVoiceCall/음성통화</td>\n",
       "      <td>음성</td>\n",
       "      <td>2022-10-14 23:40:01</td>\n",
       "      <td>KISA_20221014_2330.csv</td>\n",
       "    </tr>\n",
       "    <tr>\n",
       "      <th>11960903</th>\n",
       "      <td>80066785</td>\n",
       "      <td>음성(녹음)</td>\n",
       "      <td>기타</td>\n",
       "      <td>01051892611</td>\n",
       "      <td>01051892611</td>\n",
       "      <td>NaN</td>\n",
       "      <td>2022-10-14 23:26</td>\n",
       "      <td>2022-10-14 23:02</td>\n",
       "      <td>음성 스팸신고\\nVoiceCall/음성통화</td>\n",
       "      <td>음성</td>\n",
       "      <td>2022-10-14 23:40:01</td>\n",
       "      <td>KISA_20221014_2330.csv</td>\n",
       "    </tr>\n",
       "    <tr>\n",
       "      <th>11960904</th>\n",
       "      <td>Evaluation Only. Created with Aspose.Cells for...</td>\n",
       "      <td>NaN</td>\n",
       "      <td>NaN</td>\n",
       "      <td>NaN</td>\n",
       "      <td>NaN</td>\n",
       "      <td>NaN</td>\n",
       "      <td>NaN</td>\n",
       "      <td>NaN</td>\n",
       "      <td>NaN</td>\n",
       "      <td>NaN</td>\n",
       "      <td>NaN</td>\n",
       "      <td>NaN</td>\n",
       "    </tr>\n",
       "  </tbody>\n",
       "</table>\n",
       "<p>11960905 rows × 12 columns</p>\n",
       "</div>"
      ],
      "text/plain": [
       "                                                        seq    신고유형 스팸유형  \\\n",
       "0                                                  75166435      문자  비스팸   \n",
       "1                                                  75166438      문자   도박   \n",
       "2                                                  75166441      문자   성인   \n",
       "3                                                  75166444      문자  비스팸   \n",
       "4                                                  75166447      문자   성인   \n",
       "...                                                     ...     ...  ...   \n",
       "11960900                                           80066776  음성(녹음)   기타   \n",
       "11960901                                           80066779  음성(녹음)   기타   \n",
       "11960902                                           80066782  음성(녹음)   기타   \n",
       "11960903                                           80066785  음성(녹음)   기타   \n",
       "11960904  Evaluation Only. Created with Aspose.Cells for...     NaN  NaN   \n",
       "\n",
       "                 회신번호        원발신번호       중계사              수신시간  \\\n",
       "0         01048164736   1528900294        KT  2022-09-27 23:21   \n",
       "1         01062405771   1571818139  스탠다드네트웍스  2022-09-27 23:21   \n",
       "2         01058802861  01058802861       NaN  2022-09-27 23:21   \n",
       "3         01048164736  01029214697        KT  2022-09-27 23:21   \n",
       "4         01047321078   1528801434      다우기술  2022-09-27 23:21   \n",
       "...               ...          ...       ...               ...   \n",
       "11960900  01051892611  01051892611       NaN  2022-10-14 23:26   \n",
       "11960901  01051892611  01051892611       NaN  2022-10-14 23:26   \n",
       "11960902  01051892611  01051892611       NaN  2022-10-14 23:26   \n",
       "11960903  01051892611  01051892611       NaN  2022-10-14 23:26   \n",
       "11960904          NaN          NaN       NaN               NaN   \n",
       "\n",
       "                      신고시간                                                메시지  \\\n",
       "0         2022-09-27 18:21  [Web발신](광고)**님 안녕하세요. 9월 얼마남지 않은 기간에,\"10원짜리 문자...   \n",
       "1         2022-09-27 17:51  [Web발신](광고) Art 아트카) 신규감사쿠폰지) 330,000원노) vrn③....   \n",
       "2         2022-09-27 18:25  MMS 스팸신고[Web발신](광고)■ 신청주신 500 한정으로 보내는드리 초대권입니...   \n",
       "3         2022-09-27 18:33  [Web발신](광고)\\n**님 안녕하세요. 9월 얼마남지 않은 기간에,\\n\"10원짜...   \n",
       "4         2022-09-25 11:45  [Web발신](광고) (주) BIT 연구소현재 시장은 평생에 한번 올까말까하는일생일...   \n",
       "...                    ...                                                ...   \n",
       "11960900  2022-10-14 23:00                            음성 스팸신고\\nVoiceCall/음성통화   \n",
       "11960901  2022-10-14 23:02                            음성 스팸신고\\nVoiceCall/음성통화   \n",
       "11960902  2022-10-14 22:58                            음성 스팸신고\\nVoiceCall/음성통화   \n",
       "11960903  2022-10-14 23:02                            음성 스팸신고\\nVoiceCall/음성통화   \n",
       "11960904               NaN                                                NaN   \n",
       "\n",
       "         메시지 타입                 저장시간                    파일이름  \n",
       "0           SMS  2022-09-28 00:10:01  KISA_20220928_0000.csv  \n",
       "1           SMS  2022-09-28 00:10:01  KISA_20220928_0000.csv  \n",
       "2           MMS  2022-09-28 00:10:01  KISA_20220928_0000.csv  \n",
       "3           SMS  2022-09-28 00:10:01  KISA_20220928_0000.csv  \n",
       "4           SMS  2022-09-28 00:10:01  KISA_20220928_0000.csv  \n",
       "...         ...                  ...                     ...  \n",
       "11960900     음성  2022-10-14 23:40:01  KISA_20221014_2330.csv  \n",
       "11960901     음성  2022-10-14 23:40:01  KISA_20221014_2330.csv  \n",
       "11960902     음성  2022-10-14 23:40:01  KISA_20221014_2330.csv  \n",
       "11960903     음성  2022-10-14 23:40:01  KISA_20221014_2330.csv  \n",
       "11960904    NaN                  NaN                     NaN  \n",
       "\n",
       "[11960905 rows x 12 columns]"
      ]
     },
     "execution_count": 64,
     "metadata": {},
     "output_type": "execute_result"
    }
   ],
   "source": [
    "# 0번째 행 => 컬럼명으로 올리고, 모든 데이터프레임(133개) 병합하기\n",
    "for num, file in enumerate(tqdm(csv_file_list)):\n",
    "    if num > 0:\n",
    "        pd_ex = pd.read_csv(file)\n",
    "        pd_ex = pd_ex.rename(columns = pd_ex.iloc[0])\n",
    "        pd_ex = pd_ex.drop(pd_ex.index[0])\n",
    "        pd_total = pd.concat([pd_total,pd_ex], ignore_index=True)\n",
    "        print('{0}번째 데이터프레임 shape:{1}'.format(num, pd_ex.shape))\n",
    "        print('병합한 TOTAL 데이터프레임 shape:{1}'.format(num, pd_total.shape))\n",
    "        print('==============================================')\n",
    "    else:\n",
    "        pd_total = pd_ex\n",
    "\n",
    "pd_total # (11960905 × 12)"
   ]
  },
  {
   "cell_type": "markdown",
   "id": "8a4ec81b",
   "metadata": {},
   "source": [
    "### 음성(녹음)에 해당하는 행 삭제"
   ]
  },
  {
   "cell_type": "code",
   "execution_count": 69,
   "id": "d81f9c04",
   "metadata": {},
   "outputs": [
    {
     "data": {
      "text/plain": [
       "{'RCS', nan, '기타', '문자', '음성(녹음)'}"
      ]
     },
     "execution_count": 69,
     "metadata": {},
     "output_type": "execute_result"
    }
   ],
   "source": [
    "set(pd_total['신고유형'])"
   ]
  },
  {
   "cell_type": "code",
   "execution_count": 75,
   "id": "348ef712",
   "metadata": {
    "scrolled": true
   },
   "outputs": [
    {
     "data": {
      "text/html": [
       "<div>\n",
       "<style scoped>\n",
       "    .dataframe tbody tr th:only-of-type {\n",
       "        vertical-align: middle;\n",
       "    }\n",
       "\n",
       "    .dataframe tbody tr th {\n",
       "        vertical-align: top;\n",
       "    }\n",
       "\n",
       "    .dataframe thead th {\n",
       "        text-align: right;\n",
       "    }\n",
       "</style>\n",
       "<table border=\"1\" class=\"dataframe\">\n",
       "  <thead>\n",
       "    <tr style=\"text-align: right;\">\n",
       "      <th></th>\n",
       "      <th>seq</th>\n",
       "      <th>신고유형</th>\n",
       "      <th>스팸유형</th>\n",
       "      <th>회신번호</th>\n",
       "      <th>원발신번호</th>\n",
       "      <th>중계사</th>\n",
       "      <th>수신시간</th>\n",
       "      <th>신고시간</th>\n",
       "      <th>메시지</th>\n",
       "      <th>메시지 타입</th>\n",
       "      <th>저장시간</th>\n",
       "      <th>파일이름</th>\n",
       "    </tr>\n",
       "  </thead>\n",
       "  <tbody>\n",
       "    <tr>\n",
       "      <th>0</th>\n",
       "      <td>75166435</td>\n",
       "      <td>문자</td>\n",
       "      <td>비스팸</td>\n",
       "      <td>01048164736</td>\n",
       "      <td>1528900294</td>\n",
       "      <td>KT</td>\n",
       "      <td>2022-09-27 23:21</td>\n",
       "      <td>2022-09-27 18:21</td>\n",
       "      <td>[Web발신](광고)**님 안녕하세요. 9월 얼마남지 않은 기간에,\"10원짜리 문자...</td>\n",
       "      <td>SMS</td>\n",
       "      <td>2022-09-28 00:10:01</td>\n",
       "      <td>KISA_20220928_0000.csv</td>\n",
       "    </tr>\n",
       "    <tr>\n",
       "      <th>1</th>\n",
       "      <td>75166438</td>\n",
       "      <td>문자</td>\n",
       "      <td>도박</td>\n",
       "      <td>01062405771</td>\n",
       "      <td>1571818139</td>\n",
       "      <td>스탠다드네트웍스</td>\n",
       "      <td>2022-09-27 23:21</td>\n",
       "      <td>2022-09-27 17:51</td>\n",
       "      <td>[Web발신](광고) Art 아트카) 신규감사쿠폰지) 330,000원노) vrn③....</td>\n",
       "      <td>SMS</td>\n",
       "      <td>2022-09-28 00:10:01</td>\n",
       "      <td>KISA_20220928_0000.csv</td>\n",
       "    </tr>\n",
       "    <tr>\n",
       "      <th>2</th>\n",
       "      <td>75166441</td>\n",
       "      <td>문자</td>\n",
       "      <td>성인</td>\n",
       "      <td>01058802861</td>\n",
       "      <td>01058802861</td>\n",
       "      <td>NaN</td>\n",
       "      <td>2022-09-27 23:21</td>\n",
       "      <td>2022-09-27 18:25</td>\n",
       "      <td>MMS 스팸신고[Web발신](광고)■ 신청주신 500 한정으로 보내는드리 초대권입니...</td>\n",
       "      <td>MMS</td>\n",
       "      <td>2022-09-28 00:10:01</td>\n",
       "      <td>KISA_20220928_0000.csv</td>\n",
       "    </tr>\n",
       "    <tr>\n",
       "      <th>3</th>\n",
       "      <td>75166444</td>\n",
       "      <td>문자</td>\n",
       "      <td>비스팸</td>\n",
       "      <td>01048164736</td>\n",
       "      <td>01029214697</td>\n",
       "      <td>KT</td>\n",
       "      <td>2022-09-27 23:21</td>\n",
       "      <td>2022-09-27 18:33</td>\n",
       "      <td>[Web발신](광고)\\n**님 안녕하세요. 9월 얼마남지 않은 기간에,\\n\"10원짜...</td>\n",
       "      <td>SMS</td>\n",
       "      <td>2022-09-28 00:10:01</td>\n",
       "      <td>KISA_20220928_0000.csv</td>\n",
       "    </tr>\n",
       "    <tr>\n",
       "      <th>4</th>\n",
       "      <td>75166447</td>\n",
       "      <td>문자</td>\n",
       "      <td>성인</td>\n",
       "      <td>01047321078</td>\n",
       "      <td>1528801434</td>\n",
       "      <td>다우기술</td>\n",
       "      <td>2022-09-27 23:21</td>\n",
       "      <td>2022-09-25 11:45</td>\n",
       "      <td>[Web발신](광고) (주) BIT 연구소현재 시장은 평생에 한번 올까말까하는일생일...</td>\n",
       "      <td>SMS</td>\n",
       "      <td>2022-09-28 00:10:01</td>\n",
       "      <td>KISA_20220928_0000.csv</td>\n",
       "    </tr>\n",
       "    <tr>\n",
       "      <th>...</th>\n",
       "      <td>...</td>\n",
       "      <td>...</td>\n",
       "      <td>...</td>\n",
       "      <td>...</td>\n",
       "      <td>...</td>\n",
       "      <td>...</td>\n",
       "      <td>...</td>\n",
       "      <td>...</td>\n",
       "      <td>...</td>\n",
       "      <td>...</td>\n",
       "      <td>...</td>\n",
       "      <td>...</td>\n",
       "    </tr>\n",
       "    <tr>\n",
       "      <th>11960885</th>\n",
       "      <td>80066731</td>\n",
       "      <td>문자</td>\n",
       "      <td>주식</td>\n",
       "      <td>01031108528</td>\n",
       "      <td>01031108528</td>\n",
       "      <td>NaN</td>\n",
       "      <td>2022-10-14 23:26</td>\n",
       "      <td>2022-10-12 16:43</td>\n",
       "      <td>[Web발신]100,000원 시작으로2주간 18,920,000원 지금상담가능http...</td>\n",
       "      <td>SMS</td>\n",
       "      <td>2022-10-14 23:40:01</td>\n",
       "      <td>KISA_20221014_2330.csv</td>\n",
       "    </tr>\n",
       "    <tr>\n",
       "      <th>11960891</th>\n",
       "      <td>80066749</td>\n",
       "      <td>문자</td>\n",
       "      <td>성인</td>\n",
       "      <td>01046609125</td>\n",
       "      <td>01046609125</td>\n",
       "      <td>NaN</td>\n",
       "      <td>2022-10-14 23:26</td>\n",
       "      <td>2022-10-12 14:53</td>\n",
       "      <td>MMS 스팸신고[Web발신](광고)조승민님 안녕하세요오늘 추천 세 종목총 +29.7...</td>\n",
       "      <td>MMS</td>\n",
       "      <td>2022-10-14 23:40:01</td>\n",
       "      <td>KISA_20221014_2330.csv</td>\n",
       "    </tr>\n",
       "    <tr>\n",
       "      <th>11960897</th>\n",
       "      <td>80066767</td>\n",
       "      <td>문자</td>\n",
       "      <td>성인</td>\n",
       "      <td>01052641195</td>\n",
       "      <td>01052641195</td>\n",
       "      <td>NaN</td>\n",
       "      <td>2022-10-14 23:26</td>\n",
       "      <td>2022-10-12 13:58</td>\n",
       "      <td>MMS 스팸신고[Web발신](광고)에셋파트너스TV오래 기다리셨습니다. 드디어 작전이...</td>\n",
       "      <td>MMS</td>\n",
       "      <td>2022-10-14 23:40:01</td>\n",
       "      <td>KISA_20221014_2330.csv</td>\n",
       "    </tr>\n",
       "    <tr>\n",
       "      <th>11960898</th>\n",
       "      <td>80066770</td>\n",
       "      <td>문자</td>\n",
       "      <td>도박</td>\n",
       "      <td>01053992103</td>\n",
       "      <td>1571418053</td>\n",
       "      <td>스탠다드네트웍스</td>\n",
       "      <td>2022-10-14 23:26</td>\n",
       "      <td>2022-10-14 18:28</td>\n",
       "      <td>[Web발신]주말에는 돈버는날무료참관 가능자유로운 입,출금참여회원 22명!직접보자a...</td>\n",
       "      <td>SMS</td>\n",
       "      <td>2022-10-14 23:40:01</td>\n",
       "      <td>KISA_20221014_2330.csv</td>\n",
       "    </tr>\n",
       "    <tr>\n",
       "      <th>11960904</th>\n",
       "      <td>Evaluation Only. Created with Aspose.Cells for...</td>\n",
       "      <td>NaN</td>\n",
       "      <td>NaN</td>\n",
       "      <td>NaN</td>\n",
       "      <td>NaN</td>\n",
       "      <td>NaN</td>\n",
       "      <td>NaN</td>\n",
       "      <td>NaN</td>\n",
       "      <td>NaN</td>\n",
       "      <td>NaN</td>\n",
       "      <td>NaN</td>\n",
       "      <td>NaN</td>\n",
       "    </tr>\n",
       "  </tbody>\n",
       "</table>\n",
       "<p>9107687 rows × 12 columns</p>\n",
       "</div>"
      ],
      "text/plain": [
       "                                                        seq 신고유형 스팸유형  \\\n",
       "0                                                  75166435   문자  비스팸   \n",
       "1                                                  75166438   문자   도박   \n",
       "2                                                  75166441   문자   성인   \n",
       "3                                                  75166444   문자  비스팸   \n",
       "4                                                  75166447   문자   성인   \n",
       "...                                                     ...  ...  ...   \n",
       "11960885                                           80066731   문자   주식   \n",
       "11960891                                           80066749   문자   성인   \n",
       "11960897                                           80066767   문자   성인   \n",
       "11960898                                           80066770   문자   도박   \n",
       "11960904  Evaluation Only. Created with Aspose.Cells for...  NaN  NaN   \n",
       "\n",
       "                 회신번호        원발신번호       중계사              수신시간  \\\n",
       "0         01048164736   1528900294        KT  2022-09-27 23:21   \n",
       "1         01062405771   1571818139  스탠다드네트웍스  2022-09-27 23:21   \n",
       "2         01058802861  01058802861       NaN  2022-09-27 23:21   \n",
       "3         01048164736  01029214697        KT  2022-09-27 23:21   \n",
       "4         01047321078   1528801434      다우기술  2022-09-27 23:21   \n",
       "...               ...          ...       ...               ...   \n",
       "11960885  01031108528  01031108528       NaN  2022-10-14 23:26   \n",
       "11960891  01046609125  01046609125       NaN  2022-10-14 23:26   \n",
       "11960897  01052641195  01052641195       NaN  2022-10-14 23:26   \n",
       "11960898  01053992103   1571418053  스탠다드네트웍스  2022-10-14 23:26   \n",
       "11960904          NaN          NaN       NaN               NaN   \n",
       "\n",
       "                      신고시간                                                메시지  \\\n",
       "0         2022-09-27 18:21  [Web발신](광고)**님 안녕하세요. 9월 얼마남지 않은 기간에,\"10원짜리 문자...   \n",
       "1         2022-09-27 17:51  [Web발신](광고) Art 아트카) 신규감사쿠폰지) 330,000원노) vrn③....   \n",
       "2         2022-09-27 18:25  MMS 스팸신고[Web발신](광고)■ 신청주신 500 한정으로 보내는드리 초대권입니...   \n",
       "3         2022-09-27 18:33  [Web발신](광고)\\n**님 안녕하세요. 9월 얼마남지 않은 기간에,\\n\"10원짜...   \n",
       "4         2022-09-25 11:45  [Web발신](광고) (주) BIT 연구소현재 시장은 평생에 한번 올까말까하는일생일...   \n",
       "...                    ...                                                ...   \n",
       "11960885  2022-10-12 16:43  [Web발신]100,000원 시작으로2주간 18,920,000원 지금상담가능http...   \n",
       "11960891  2022-10-12 14:53  MMS 스팸신고[Web발신](광고)조승민님 안녕하세요오늘 추천 세 종목총 +29.7...   \n",
       "11960897  2022-10-12 13:58  MMS 스팸신고[Web발신](광고)에셋파트너스TV오래 기다리셨습니다. 드디어 작전이...   \n",
       "11960898  2022-10-14 18:28  [Web발신]주말에는 돈버는날무료참관 가능자유로운 입,출금참여회원 22명!직접보자a...   \n",
       "11960904               NaN                                                NaN   \n",
       "\n",
       "         메시지 타입                 저장시간                    파일이름  \n",
       "0           SMS  2022-09-28 00:10:01  KISA_20220928_0000.csv  \n",
       "1           SMS  2022-09-28 00:10:01  KISA_20220928_0000.csv  \n",
       "2           MMS  2022-09-28 00:10:01  KISA_20220928_0000.csv  \n",
       "3           SMS  2022-09-28 00:10:01  KISA_20220928_0000.csv  \n",
       "4           SMS  2022-09-28 00:10:01  KISA_20220928_0000.csv  \n",
       "...         ...                  ...                     ...  \n",
       "11960885    SMS  2022-10-14 23:40:01  KISA_20221014_2330.csv  \n",
       "11960891    MMS  2022-10-14 23:40:01  KISA_20221014_2330.csv  \n",
       "11960897    MMS  2022-10-14 23:40:01  KISA_20221014_2330.csv  \n",
       "11960898    SMS  2022-10-14 23:40:01  KISA_20221014_2330.csv  \n",
       "11960904    NaN                  NaN                     NaN  \n",
       "\n",
       "[9107687 rows x 12 columns]"
      ]
     },
     "execution_count": 75,
     "metadata": {},
     "output_type": "execute_result"
    }
   ],
   "source": [
    "pd_total = pd_total[pd_total['신고유형']!='음성(녹음)']\n",
    "pd_total # (9107687 x 12)"
   ]
  },
  {
   "cell_type": "code",
   "execution_count": 82,
   "id": "c86fbcba",
   "metadata": {
    "scrolled": true
   },
   "outputs": [
    {
     "data": {
      "text/plain": [
       "{'비스팸': 381847,\n",
       " '도박': 2110208,\n",
       " '성인': 485705,\n",
       " '기타': 4114228,\n",
       " '불법대출': 950755,\n",
       " '대리운전': 182839,\n",
       " '부동산': 173545,\n",
       " '금융': 80073,\n",
       " '의약품': 56070,\n",
       " '주식': 375230,\n",
       " '통신가입': 81150,\n",
       " '유흥업소': 19343,\n",
       " '확인불가': 77590,\n",
       " '운세': 4058,\n",
       " '게임': 12252,\n",
       " '스미싱': 1688,\n",
       " '계좌임대': 389,\n",
       " nan: 271,\n",
       " '여행': 321,\n",
       " '교육': 117,\n",
       " '성매매알선': 8}"
      ]
     },
     "execution_count": 82,
     "metadata": {},
     "output_type": "execute_result"
    }
   ],
   "source": [
    "tp_cnt = {}\n",
    "for tp in pd_total['스팸유형']:\n",
    "    if tp not in tp_cnt.keys():\n",
    "        tp_cnt[tp] = 1\n",
    "    else:\n",
    "        tp_cnt[tp] += 1\n",
    "tp_cnt"
   ]
  },
  {
   "cell_type": "code",
   "execution_count": 150,
   "id": "f047df36",
   "metadata": {},
   "outputs": [
    {
     "data": {
      "text/html": [
       "<div>\n",
       "<style scoped>\n",
       "    .dataframe tbody tr th:only-of-type {\n",
       "        vertical-align: middle;\n",
       "    }\n",
       "\n",
       "    .dataframe tbody tr th {\n",
       "        vertical-align: top;\n",
       "    }\n",
       "\n",
       "    .dataframe thead th {\n",
       "        text-align: right;\n",
       "    }\n",
       "</style>\n",
       "<table border=\"1\" class=\"dataframe\">\n",
       "  <thead>\n",
       "    <tr style=\"text-align: right;\">\n",
       "      <th></th>\n",
       "      <th>스팸유형</th>\n",
       "      <th>메시지</th>\n",
       "      <th>메시지 타입</th>\n",
       "    </tr>\n",
       "  </thead>\n",
       "  <tbody>\n",
       "    <tr>\n",
       "      <th>0</th>\n",
       "      <td>비스팸</td>\n",
       "      <td>[Web발신](광고)**님 안녕하세요. 9월 얼마남지 않은 기간에,\"10원짜리 문자...</td>\n",
       "      <td>SMS</td>\n",
       "    </tr>\n",
       "    <tr>\n",
       "      <th>1</th>\n",
       "      <td>도박</td>\n",
       "      <td>[Web발신](광고) Art 아트카) 신규감사쿠폰지) 330,000원노) vrn③....</td>\n",
       "      <td>SMS</td>\n",
       "    </tr>\n",
       "    <tr>\n",
       "      <th>2</th>\n",
       "      <td>성인</td>\n",
       "      <td>MMS 스팸신고[Web발신](광고)■ 신청주신 500 한정으로 보내는드리 초대권입니...</td>\n",
       "      <td>MMS</td>\n",
       "    </tr>\n",
       "    <tr>\n",
       "      <th>3</th>\n",
       "      <td>비스팸</td>\n",
       "      <td>[Web발신](광고)\\n**님 안녕하세요. 9월 얼마남지 않은 기간에,\\n\"10원짜...</td>\n",
       "      <td>SMS</td>\n",
       "    </tr>\n",
       "    <tr>\n",
       "      <th>4</th>\n",
       "      <td>성인</td>\n",
       "      <td>[Web발신](광고) (주) BIT 연구소현재 시장은 평생에 한번 올까말까하는일생일...</td>\n",
       "      <td>SMS</td>\n",
       "    </tr>\n",
       "    <tr>\n",
       "      <th>...</th>\n",
       "      <td>...</td>\n",
       "      <td>...</td>\n",
       "      <td>...</td>\n",
       "    </tr>\n",
       "    <tr>\n",
       "      <th>11960885</th>\n",
       "      <td>주식</td>\n",
       "      <td>[Web발신]100,000원 시작으로2주간 18,920,000원 지금상담가능http...</td>\n",
       "      <td>SMS</td>\n",
       "    </tr>\n",
       "    <tr>\n",
       "      <th>11960891</th>\n",
       "      <td>성인</td>\n",
       "      <td>MMS 스팸신고[Web발신](광고)조승민님 안녕하세요오늘 추천 세 종목총 +29.7...</td>\n",
       "      <td>MMS</td>\n",
       "    </tr>\n",
       "    <tr>\n",
       "      <th>11960897</th>\n",
       "      <td>성인</td>\n",
       "      <td>MMS 스팸신고[Web발신](광고)에셋파트너스TV오래 기다리셨습니다. 드디어 작전이...</td>\n",
       "      <td>MMS</td>\n",
       "    </tr>\n",
       "    <tr>\n",
       "      <th>11960898</th>\n",
       "      <td>도박</td>\n",
       "      <td>[Web발신]주말에는 돈버는날무료참관 가능자유로운 입,출금참여회원 22명!직접보자a...</td>\n",
       "      <td>SMS</td>\n",
       "    </tr>\n",
       "    <tr>\n",
       "      <th>11960904</th>\n",
       "      <td>NaN</td>\n",
       "      <td>NaN</td>\n",
       "      <td>NaN</td>\n",
       "    </tr>\n",
       "  </tbody>\n",
       "</table>\n",
       "<p>9107687 rows × 3 columns</p>\n",
       "</div>"
      ],
      "text/plain": [
       "         스팸유형                                                메시지 메시지 타입\n",
       "0         비스팸  [Web발신](광고)**님 안녕하세요. 9월 얼마남지 않은 기간에,\"10원짜리 문자...    SMS\n",
       "1          도박  [Web발신](광고) Art 아트카) 신규감사쿠폰지) 330,000원노) vrn③....    SMS\n",
       "2          성인  MMS 스팸신고[Web발신](광고)■ 신청주신 500 한정으로 보내는드리 초대권입니...    MMS\n",
       "3         비스팸  [Web발신](광고)\\n**님 안녕하세요. 9월 얼마남지 않은 기간에,\\n\"10원짜...    SMS\n",
       "4          성인  [Web발신](광고) (주) BIT 연구소현재 시장은 평생에 한번 올까말까하는일생일...    SMS\n",
       "...       ...                                                ...    ...\n",
       "11960885   주식  [Web발신]100,000원 시작으로2주간 18,920,000원 지금상담가능http...    SMS\n",
       "11960891   성인  MMS 스팸신고[Web발신](광고)조승민님 안녕하세요오늘 추천 세 종목총 +29.7...    MMS\n",
       "11960897   성인  MMS 스팸신고[Web발신](광고)에셋파트너스TV오래 기다리셨습니다. 드디어 작전이...    MMS\n",
       "11960898   도박  [Web발신]주말에는 돈버는날무료참관 가능자유로운 입,출금참여회원 22명!직접보자a...    SMS\n",
       "11960904  NaN                                                NaN    NaN\n",
       "\n",
       "[9107687 rows x 3 columns]"
      ]
     },
     "execution_count": 150,
     "metadata": {},
     "output_type": "execute_result"
    }
   ],
   "source": [
    "pd_content = pd_total[['스팸유형', '메시지', '메시지 타입']]\n",
    "pd_content"
   ]
  },
  {
   "cell_type": "code",
   "execution_count": 151,
   "id": "7f07bc61",
   "metadata": {
    "scrolled": true
   },
   "outputs": [
    {
     "name": "stderr",
     "output_type": "stream",
     "text": [
      "/home/miso/.conda/envs/miso/lib/python3.7/site-packages/pandas/util/_decorators.py:311: SettingWithCopyWarning: \n",
      "A value is trying to be set on a copy of a slice from a DataFrame\n",
      "\n",
      "See the caveats in the documentation: https://pandas.pydata.org/pandas-docs/stable/user_guide/indexing.html#returning-a-view-versus-a-copy\n",
      "  return func(*args, **kwargs)\n"
     ]
    }
   ],
   "source": [
    "# nan에 해당하는 행 271개 삭제\n",
    "pd_content.dropna(axis=0, how='any', thresh=None, subset=None, inplace=True)"
   ]
  },
  {
   "cell_type": "code",
   "execution_count": 152,
   "id": "1415fd9c",
   "metadata": {},
   "outputs": [
    {
     "data": {
      "text/html": [
       "<div>\n",
       "<style scoped>\n",
       "    .dataframe tbody tr th:only-of-type {\n",
       "        vertical-align: middle;\n",
       "    }\n",
       "\n",
       "    .dataframe tbody tr th {\n",
       "        vertical-align: top;\n",
       "    }\n",
       "\n",
       "    .dataframe thead th {\n",
       "        text-align: right;\n",
       "    }\n",
       "</style>\n",
       "<table border=\"1\" class=\"dataframe\">\n",
       "  <thead>\n",
       "    <tr style=\"text-align: right;\">\n",
       "      <th></th>\n",
       "      <th>스팸유형</th>\n",
       "      <th>메시지</th>\n",
       "      <th>메시지 타입</th>\n",
       "    </tr>\n",
       "  </thead>\n",
       "  <tbody>\n",
       "    <tr>\n",
       "      <th>0</th>\n",
       "      <td>비스팸</td>\n",
       "      <td>[Web발신](광고)**님 안녕하세요. 9월 얼마남지 않은 기간에,\"10원짜리 문자...</td>\n",
       "      <td>SMS</td>\n",
       "    </tr>\n",
       "    <tr>\n",
       "      <th>1</th>\n",
       "      <td>도박</td>\n",
       "      <td>[Web발신](광고) Art 아트카) 신규감사쿠폰지) 330,000원노) vrn③....</td>\n",
       "      <td>SMS</td>\n",
       "    </tr>\n",
       "    <tr>\n",
       "      <th>2</th>\n",
       "      <td>성인</td>\n",
       "      <td>MMS 스팸신고[Web발신](광고)■ 신청주신 500 한정으로 보내는드리 초대권입니...</td>\n",
       "      <td>MMS</td>\n",
       "    </tr>\n",
       "    <tr>\n",
       "      <th>3</th>\n",
       "      <td>비스팸</td>\n",
       "      <td>[Web발신](광고)\\n**님 안녕하세요. 9월 얼마남지 않은 기간에,\\n\"10원짜...</td>\n",
       "      <td>SMS</td>\n",
       "    </tr>\n",
       "    <tr>\n",
       "      <th>4</th>\n",
       "      <td>성인</td>\n",
       "      <td>[Web발신](광고) (주) BIT 연구소현재 시장은 평생에 한번 올까말까하는일생일...</td>\n",
       "      <td>SMS</td>\n",
       "    </tr>\n",
       "    <tr>\n",
       "      <th>...</th>\n",
       "      <td>...</td>\n",
       "      <td>...</td>\n",
       "      <td>...</td>\n",
       "    </tr>\n",
       "    <tr>\n",
       "      <th>11960884</th>\n",
       "      <td>기타</td>\n",
       "      <td>[Web발신](광고)제주 레이크힐스cc(현 클럽엘제주)헤리티지 회원권 안내(급매)매...</td>\n",
       "      <td>SMS</td>\n",
       "    </tr>\n",
       "    <tr>\n",
       "      <th>11960885</th>\n",
       "      <td>주식</td>\n",
       "      <td>[Web발신]100,000원 시작으로2주간 18,920,000원 지금상담가능http...</td>\n",
       "      <td>SMS</td>\n",
       "    </tr>\n",
       "    <tr>\n",
       "      <th>11960891</th>\n",
       "      <td>성인</td>\n",
       "      <td>MMS 스팸신고[Web발신](광고)조승민님 안녕하세요오늘 추천 세 종목총 +29.7...</td>\n",
       "      <td>MMS</td>\n",
       "    </tr>\n",
       "    <tr>\n",
       "      <th>11960897</th>\n",
       "      <td>성인</td>\n",
       "      <td>MMS 스팸신고[Web발신](광고)에셋파트너스TV오래 기다리셨습니다. 드디어 작전이...</td>\n",
       "      <td>MMS</td>\n",
       "    </tr>\n",
       "    <tr>\n",
       "      <th>11960898</th>\n",
       "      <td>도박</td>\n",
       "      <td>[Web발신]주말에는 돈버는날무료참관 가능자유로운 입,출금참여회원 22명!직접보자a...</td>\n",
       "      <td>SMS</td>\n",
       "    </tr>\n",
       "  </tbody>\n",
       "</table>\n",
       "<p>9107416 rows × 3 columns</p>\n",
       "</div>"
      ],
      "text/plain": [
       "         스팸유형                                                메시지 메시지 타입\n",
       "0         비스팸  [Web발신](광고)**님 안녕하세요. 9월 얼마남지 않은 기간에,\"10원짜리 문자...    SMS\n",
       "1          도박  [Web발신](광고) Art 아트카) 신규감사쿠폰지) 330,000원노) vrn③....    SMS\n",
       "2          성인  MMS 스팸신고[Web발신](광고)■ 신청주신 500 한정으로 보내는드리 초대권입니...    MMS\n",
       "3         비스팸  [Web발신](광고)\\n**님 안녕하세요. 9월 얼마남지 않은 기간에,\\n\"10원짜...    SMS\n",
       "4          성인  [Web발신](광고) (주) BIT 연구소현재 시장은 평생에 한번 올까말까하는일생일...    SMS\n",
       "...       ...                                                ...    ...\n",
       "11960884   기타  [Web발신](광고)제주 레이크힐스cc(현 클럽엘제주)헤리티지 회원권 안내(급매)매...    SMS\n",
       "11960885   주식  [Web발신]100,000원 시작으로2주간 18,920,000원 지금상담가능http...    SMS\n",
       "11960891   성인  MMS 스팸신고[Web발신](광고)조승민님 안녕하세요오늘 추천 세 종목총 +29.7...    MMS\n",
       "11960897   성인  MMS 스팸신고[Web발신](광고)에셋파트너스TV오래 기다리셨습니다. 드디어 작전이...    MMS\n",
       "11960898   도박  [Web발신]주말에는 돈버는날무료참관 가능자유로운 입,출금참여회원 22명!직접보자a...    SMS\n",
       "\n",
       "[9107416 rows x 3 columns]"
      ]
     },
     "execution_count": 152,
     "metadata": {},
     "output_type": "execute_result"
    }
   ],
   "source": [
    "pd_content"
   ]
  },
  {
   "cell_type": "code",
   "execution_count": 160,
   "id": "c7b565ed",
   "metadata": {},
   "outputs": [],
   "source": [
    "# df to csv (pd_content 열 3개로 다시 저장)\n",
    "os.chdir('/home/miso/SpamDetection/spam_data/preprocessed')\n",
    "pd_content.to_csv('./pd_content_2.csv')"
   ]
  },
  {
   "cell_type": "code",
   "execution_count": 91,
   "id": "8fe44158",
   "metadata": {},
   "outputs": [
    {
     "data": {
      "text/plain": [
       "dict_keys(['비스팸', '도박', '성인', '기타', '불법대출', '대리운전', '부동산', '금융', '의약품', '주식', '통신가입', '유흥업소', '확인불가', '운세', '게임', '스미싱', '계좌임대', nan, '여행', '교육', '성매매알선'])"
      ]
     },
     "execution_count": 91,
     "metadata": {},
     "output_type": "execute_result"
    }
   ],
   "source": [
    "tp_cnt.keys()"
   ]
  },
  {
   "cell_type": "code",
   "execution_count": 116,
   "id": "d84be8c3",
   "metadata": {},
   "outputs": [
    {
     "data": {
      "text/plain": [
       "array([ 0,  1,  2,  3,  4,  5,  6,  7,  8,  9, 10, 11, 12, 13, 14, 15, 16,\n",
       "       17, 18, 19])"
      ]
     },
     "execution_count": 116,
     "metadata": {},
     "output_type": "execute_result"
    }
   ],
   "source": [
    "x = np.arange(20)\n",
    "x"
   ]
  },
  {
   "cell_type": "code",
   "execution_count": 109,
   "id": "15381aa6",
   "metadata": {},
   "outputs": [
    {
     "data": {
      "text/plain": [
       "[381847,\n",
       " 2110208,\n",
       " 485705,\n",
       " 4114228,\n",
       " 950755,\n",
       " 182839,\n",
       " 173545,\n",
       " 80073,\n",
       " 56070,\n",
       " 375230,\n",
       " 81150,\n",
       " 19343,\n",
       " 77590,\n",
       " 4058,\n",
       " 12252,\n",
       " 1688,\n",
       " 389,\n",
       " 321,\n",
       " 117,\n",
       " 8]"
      ]
     },
     "execution_count": 109,
     "metadata": {},
     "output_type": "execute_result"
    }
   ],
   "source": [
    "cnt = []\n",
    "for xx in x:\n",
    "    cnt.append(tp_cnt[xx])\n",
    "cnt"
   ]
  },
  {
   "cell_type": "code",
   "execution_count": 140,
   "id": "283aa392",
   "metadata": {},
   "outputs": [
    {
     "data": {
      "image/png": "[encoded data removed]",
      "text/plain": [
       "<Figure size 640x480 with 1 Axes>"
      ]
     },
     "metadata": {},
     "output_type": "display_data"
    }
   ],
   "source": [
    "plt.bar(x, cnt)\n",
    "plt.xticks(x, x)\n",
    "plt.xlabel('Spam Type')\n",
    "plt.ylabel('Count')\n",
    "plt.show()"
   ]
  },
  {
   "cell_type": "markdown",
   "id": "cfa22ce1",
   "metadata": {},
   "source": [
    "0 : '비스팸'   \n",
    "1 : '도박'   \n",
    "2 : '성인'   \n",
    "**3 : '기타'**   \n",
    "4 : '불법대출'   \n",
    "5 : '대리운전'   \n",
    "6 : '부동산'   \n",
    "7 : '금융'   \n",
    "8 : '의약품'   \n",
    "9 : '주식'   \n",
    "10 : '통신가입'   \n",
    "11 : '유흥업소'   \n",
    "12 : '확인불가'   \n",
    "13 : '운세'   \n",
    "14 : '게임'   \n",
    "15 : '스미싱'   \n",
    "16 : '계좌임대'   \n",
    "17 : '여행'   \n",
    "18 : '교육'   \n",
    "19 : '성매매알선'   "
   ]
  },
  {
   "cell_type": "code",
   "execution_count": 149,
   "id": "986df963",
   "metadata": {
    "scrolled": true
   },
   "outputs": [
    {
     "data": {
      "text/html": [
       "<div>\n",
       "<style scoped>\n",
       "    .dataframe tbody tr th:only-of-type {\n",
       "        vertical-align: middle;\n",
       "    }\n",
       "\n",
       "    .dataframe tbody tr th {\n",
       "        vertical-align: top;\n",
       "    }\n",
       "\n",
       "    .dataframe thead th {\n",
       "        text-align: right;\n",
       "    }\n",
       "</style>\n",
       "<table border=\"1\" class=\"dataframe\">\n",
       "  <thead>\n",
       "    <tr style=\"text-align: right;\">\n",
       "      <th></th>\n",
       "      <th>seq</th>\n",
       "      <th>신고유형</th>\n",
       "      <th>스팸유형</th>\n",
       "      <th>회신번호</th>\n",
       "      <th>원발신번호</th>\n",
       "      <th>중계사</th>\n",
       "      <th>수신시간</th>\n",
       "      <th>신고시간</th>\n",
       "      <th>메시지</th>\n",
       "      <th>메시지 타입</th>\n",
       "      <th>저장시간</th>\n",
       "      <th>파일이름</th>\n",
       "    </tr>\n",
       "  </thead>\n",
       "  <tbody>\n",
       "    <tr>\n",
       "      <th>0</th>\n",
       "      <td>75166435</td>\n",
       "      <td>문자</td>\n",
       "      <td>비스팸</td>\n",
       "      <td>01048164736</td>\n",
       "      <td>1528900294</td>\n",
       "      <td>KT</td>\n",
       "      <td>2022-09-27 23:21</td>\n",
       "      <td>2022-09-27 18:21</td>\n",
       "      <td>[Web발신](광고)**님 안녕하세요. 9월 얼마남지 않은 기간에,\"10원짜리 문자...</td>\n",
       "      <td>SMS</td>\n",
       "      <td>2022-09-28 00:10:01</td>\n",
       "      <td>KISA_20220928_0000.csv</td>\n",
       "    </tr>\n",
       "    <tr>\n",
       "      <th>1</th>\n",
       "      <td>75166438</td>\n",
       "      <td>문자</td>\n",
       "      <td>도박</td>\n",
       "      <td>01062405771</td>\n",
       "      <td>1571818139</td>\n",
       "      <td>스탠다드네트웍스</td>\n",
       "      <td>2022-09-27 23:21</td>\n",
       "      <td>2022-09-27 17:51</td>\n",
       "      <td>[Web발신](광고) Art 아트카) 신규감사쿠폰지) 330,000원노) vrn③....</td>\n",
       "      <td>SMS</td>\n",
       "      <td>2022-09-28 00:10:01</td>\n",
       "      <td>KISA_20220928_0000.csv</td>\n",
       "    </tr>\n",
       "    <tr>\n",
       "      <th>2</th>\n",
       "      <td>75166441</td>\n",
       "      <td>문자</td>\n",
       "      <td>성인</td>\n",
       "      <td>01058802861</td>\n",
       "      <td>01058802861</td>\n",
       "      <td>NaN</td>\n",
       "      <td>2022-09-27 23:21</td>\n",
       "      <td>2022-09-27 18:25</td>\n",
       "      <td>MMS 스팸신고[Web발신](광고)■ 신청주신 500 한정으로 보내는드리 초대권입니...</td>\n",
       "      <td>MMS</td>\n",
       "      <td>2022-09-28 00:10:01</td>\n",
       "      <td>KISA_20220928_0000.csv</td>\n",
       "    </tr>\n",
       "    <tr>\n",
       "      <th>3</th>\n",
       "      <td>75166444</td>\n",
       "      <td>문자</td>\n",
       "      <td>비스팸</td>\n",
       "      <td>01048164736</td>\n",
       "      <td>01029214697</td>\n",
       "      <td>KT</td>\n",
       "      <td>2022-09-27 23:21</td>\n",
       "      <td>2022-09-27 18:33</td>\n",
       "      <td>[Web발신](광고)\\n**님 안녕하세요. 9월 얼마남지 않은 기간에,\\n\"10원짜...</td>\n",
       "      <td>SMS</td>\n",
       "      <td>2022-09-28 00:10:01</td>\n",
       "      <td>KISA_20220928_0000.csv</td>\n",
       "    </tr>\n",
       "    <tr>\n",
       "      <th>4</th>\n",
       "      <td>75166447</td>\n",
       "      <td>문자</td>\n",
       "      <td>성인</td>\n",
       "      <td>01047321078</td>\n",
       "      <td>1528801434</td>\n",
       "      <td>다우기술</td>\n",
       "      <td>2022-09-27 23:21</td>\n",
       "      <td>2022-09-25 11:45</td>\n",
       "      <td>[Web발신](광고) (주) BIT 연구소현재 시장은 평생에 한번 올까말까하는일생일...</td>\n",
       "      <td>SMS</td>\n",
       "      <td>2022-09-28 00:10:01</td>\n",
       "      <td>KISA_20220928_0000.csv</td>\n",
       "    </tr>\n",
       "    <tr>\n",
       "      <th>...</th>\n",
       "      <td>...</td>\n",
       "      <td>...</td>\n",
       "      <td>...</td>\n",
       "      <td>...</td>\n",
       "      <td>...</td>\n",
       "      <td>...</td>\n",
       "      <td>...</td>\n",
       "      <td>...</td>\n",
       "      <td>...</td>\n",
       "      <td>...</td>\n",
       "      <td>...</td>\n",
       "      <td>...</td>\n",
       "    </tr>\n",
       "    <tr>\n",
       "      <th>11960885</th>\n",
       "      <td>80066731</td>\n",
       "      <td>문자</td>\n",
       "      <td>주식</td>\n",
       "      <td>01031108528</td>\n",
       "      <td>01031108528</td>\n",
       "      <td>NaN</td>\n",
       "      <td>2022-10-14 23:26</td>\n",
       "      <td>2022-10-12 16:43</td>\n",
       "      <td>[Web발신]100,000원 시작으로2주간 18,920,000원 지금상담가능http...</td>\n",
       "      <td>SMS</td>\n",
       "      <td>2022-10-14 23:40:01</td>\n",
       "      <td>KISA_20221014_2330.csv</td>\n",
       "    </tr>\n",
       "    <tr>\n",
       "      <th>11960891</th>\n",
       "      <td>80066749</td>\n",
       "      <td>문자</td>\n",
       "      <td>성인</td>\n",
       "      <td>01046609125</td>\n",
       "      <td>01046609125</td>\n",
       "      <td>NaN</td>\n",
       "      <td>2022-10-14 23:26</td>\n",
       "      <td>2022-10-12 14:53</td>\n",
       "      <td>MMS 스팸신고[Web발신](광고)조승민님 안녕하세요오늘 추천 세 종목총 +29.7...</td>\n",
       "      <td>MMS</td>\n",
       "      <td>2022-10-14 23:40:01</td>\n",
       "      <td>KISA_20221014_2330.csv</td>\n",
       "    </tr>\n",
       "    <tr>\n",
       "      <th>11960897</th>\n",
       "      <td>80066767</td>\n",
       "      <td>문자</td>\n",
       "      <td>성인</td>\n",
       "      <td>01052641195</td>\n",
       "      <td>01052641195</td>\n",
       "      <td>NaN</td>\n",
       "      <td>2022-10-14 23:26</td>\n",
       "      <td>2022-10-12 13:58</td>\n",
       "      <td>MMS 스팸신고[Web발신](광고)에셋파트너스TV오래 기다리셨습니다. 드디어 작전이...</td>\n",
       "      <td>MMS</td>\n",
       "      <td>2022-10-14 23:40:01</td>\n",
       "      <td>KISA_20221014_2330.csv</td>\n",
       "    </tr>\n",
       "    <tr>\n",
       "      <th>11960898</th>\n",
       "      <td>80066770</td>\n",
       "      <td>문자</td>\n",
       "      <td>도박</td>\n",
       "      <td>01053992103</td>\n",
       "      <td>1571418053</td>\n",
       "      <td>스탠다드네트웍스</td>\n",
       "      <td>2022-10-14 23:26</td>\n",
       "      <td>2022-10-14 18:28</td>\n",
       "      <td>[Web발신]주말에는 돈버는날무료참관 가능자유로운 입,출금참여회원 22명!직접보자a...</td>\n",
       "      <td>SMS</td>\n",
       "      <td>2022-10-14 23:40:01</td>\n",
       "      <td>KISA_20221014_2330.csv</td>\n",
       "    </tr>\n",
       "    <tr>\n",
       "      <th>11960904</th>\n",
       "      <td>Evaluation Only. Created with Aspose.Cells for...</td>\n",
       "      <td>NaN</td>\n",
       "      <td>NaN</td>\n",
       "      <td>NaN</td>\n",
       "      <td>NaN</td>\n",
       "      <td>NaN</td>\n",
       "      <td>NaN</td>\n",
       "      <td>NaN</td>\n",
       "      <td>NaN</td>\n",
       "      <td>NaN</td>\n",
       "      <td>NaN</td>\n",
       "      <td>NaN</td>\n",
       "    </tr>\n",
       "  </tbody>\n",
       "</table>\n",
       "<p>9107687 rows × 12 columns</p>\n",
       "</div>"
      ],
      "text/plain": [
       "                                                        seq 신고유형 스팸유형  \\\n",
       "0                                                  75166435   문자  비스팸   \n",
       "1                                                  75166438   문자   도박   \n",
       "2                                                  75166441   문자   성인   \n",
       "3                                                  75166444   문자  비스팸   \n",
       "4                                                  75166447   문자   성인   \n",
       "...                                                     ...  ...  ...   \n",
       "11960885                                           80066731   문자   주식   \n",
       "11960891                                           80066749   문자   성인   \n",
       "11960897                                           80066767   문자   성인   \n",
       "11960898                                           80066770   문자   도박   \n",
       "11960904  Evaluation Only. Created with Aspose.Cells for...  NaN  NaN   \n",
       "\n",
       "                 회신번호        원발신번호       중계사              수신시간  \\\n",
       "0         01048164736   1528900294        KT  2022-09-27 23:21   \n",
       "1         01062405771   1571818139  스탠다드네트웍스  2022-09-27 23:21   \n",
       "2         01058802861  01058802861       NaN  2022-09-27 23:21   \n",
       "3         01048164736  01029214697        KT  2022-09-27 23:21   \n",
       "4         01047321078   1528801434      다우기술  2022-09-27 23:21   \n",
       "...               ...          ...       ...               ...   \n",
       "11960885  01031108528  01031108528       NaN  2022-10-14 23:26   \n",
       "11960891  01046609125  01046609125       NaN  2022-10-14 23:26   \n",
       "11960897  01052641195  01052641195       NaN  2022-10-14 23:26   \n",
       "11960898  01053992103   1571418053  스탠다드네트웍스  2022-10-14 23:26   \n",
       "11960904          NaN          NaN       NaN               NaN   \n",
       "\n",
       "                      신고시간                                                메시지  \\\n",
       "0         2022-09-27 18:21  [Web발신](광고)**님 안녕하세요. 9월 얼마남지 않은 기간에,\"10원짜리 문자...   \n",
       "1         2022-09-27 17:51  [Web발신](광고) Art 아트카) 신규감사쿠폰지) 330,000원노) vrn③....   \n",
       "2         2022-09-27 18:25  MMS 스팸신고[Web발신](광고)■ 신청주신 500 한정으로 보내는드리 초대권입니...   \n",
       "3         2022-09-27 18:33  [Web발신](광고)\\n**님 안녕하세요. 9월 얼마남지 않은 기간에,\\n\"10원짜...   \n",
       "4         2022-09-25 11:45  [Web발신](광고) (주) BIT 연구소현재 시장은 평생에 한번 올까말까하는일생일...   \n",
       "...                    ...                                                ...   \n",
       "11960885  2022-10-12 16:43  [Web발신]100,000원 시작으로2주간 18,920,000원 지금상담가능http...   \n",
       "11960891  2022-10-12 14:53  MMS 스팸신고[Web발신](광고)조승민님 안녕하세요오늘 추천 세 종목총 +29.7...   \n",
       "11960897  2022-10-12 13:58  MMS 스팸신고[Web발신](광고)에셋파트너스TV오래 기다리셨습니다. 드디어 작전이...   \n",
       "11960898  2022-10-14 18:28  [Web발신]주말에는 돈버는날무료참관 가능자유로운 입,출금참여회원 22명!직접보자a...   \n",
       "11960904               NaN                                                NaN   \n",
       "\n",
       "         메시지 타입                 저장시간                    파일이름  \n",
       "0           SMS  2022-09-28 00:10:01  KISA_20220928_0000.csv  \n",
       "1           SMS  2022-09-28 00:10:01  KISA_20220928_0000.csv  \n",
       "2           MMS  2022-09-28 00:10:01  KISA_20220928_0000.csv  \n",
       "3           SMS  2022-09-28 00:10:01  KISA_20220928_0000.csv  \n",
       "4           SMS  2022-09-28 00:10:01  KISA_20220928_0000.csv  \n",
       "...         ...                  ...                     ...  \n",
       "11960885    SMS  2022-10-14 23:40:01  KISA_20221014_2330.csv  \n",
       "11960891    MMS  2022-10-14 23:40:01  KISA_20221014_2330.csv  \n",
       "11960897    MMS  2022-10-14 23:40:01  KISA_20221014_2330.csv  \n",
       "11960898    SMS  2022-10-14 23:40:01  KISA_20221014_2330.csv  \n",
       "11960904    NaN                  NaN                     NaN  \n",
       "\n",
       "[9107687 rows x 12 columns]"
      ]
     },
     "execution_count": 149,
     "metadata": {},
     "output_type": "execute_result"
    }
   ],
   "source": [
    "pd_total"
   ]
  },
  {
   "cell_type": "code",
   "execution_count": 153,
   "id": "71d6e600",
   "metadata": {
    "scrolled": true
   },
   "outputs": [
    {
     "data": {
      "text/plain": [
       "SMS    8124869\n",
       "MMS     982547\n",
       "Name: 메시지 타입, dtype: int64"
      ]
     },
     "execution_count": 153,
     "metadata": {},
     "output_type": "execute_result"
    }
   ],
   "source": [
    "pd_content['메시지 타입'].value_counts()"
   ]
  },
  {
   "cell_type": "code",
   "execution_count": 156,
   "id": "29a34a88",
   "metadata": {
    "scrolled": false
   },
   "outputs": [
    {
     "data": {
      "image/png": "[encoded data removed]",
      "text/plain": [
       "<Figure size 640x480 with 1 Axes>"
      ]
     },
     "metadata": {},
     "output_type": "display_data"
    }
   ],
   "source": [
    "x = np.arange(2)\n",
    "y = [8124869, 982547]\n",
    "plt.bar(x, y)\n",
    "plt.xticks(x,['SMS', 'MMS'])\n",
    "plt.xlabel('Message Type')\n",
    "plt.ylabel('Count')\n",
    "plt.show()"
   ]
  },
  {
   "cell_type": "code",
   "execution_count": null,
   "id": "c5a58264",
   "metadata": {},
   "outputs": [],
   "source": []
  },
  {
   "cell_type": "code",
   "execution_count": null,
   "id": "5d68e9d9",
   "metadata": {},
   "outputs": [],
   "source": []
  },
  {
   "cell_type": "code",
   "execution_count": null,
   "id": "84c40261",
   "metadata": {},
   "outputs": [],
   "source": []
  },
  {
   "cell_type": "code",
   "execution_count": null,
   "id": "9a0c1a2d",
   "metadata": {},
   "outputs": [],
   "source": []
  }
 ],
 "metadata": {
  "kernelspec": {
   "display_name": "miso",
   "language": "python",
   "name": "miso"
  },
  "language_info": {
   "codemirror_mode": {
    "name": "ipython",
    "version": 3
   },
   "file_extension": ".py",
   "mimetype": "text/x-python",
   "name": "python",
   "nbconvert_exporter": "python",
   "pygments_lexer": "ipython3",
   "version": "3.7.15"
  }
 },
 "nbformat": 4,
 "nbformat_minor": 5
}
