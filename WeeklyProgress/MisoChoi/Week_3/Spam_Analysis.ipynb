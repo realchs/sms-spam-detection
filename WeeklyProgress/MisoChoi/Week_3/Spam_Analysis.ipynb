{
 "cells": [
  {
   "cell_type": "markdown",
   "id": "13ac3a3b",
   "metadata": {},
   "source": [
    "### Excel 파일 CSV로 변환 후 병합"
   ]
  },
  {
   "cell_type": "code",
   "execution_count": 1,
   "id": "7df6f84e",
   "metadata": {
    "scrolled": true
   },
   "outputs": [],
   "source": [
    "import jpype\n",
    "import asposecells\n",
    "jpype.startJVM()\n",
    "from asposecells.api import Workbook, SaveFormat"
   ]
  },
  {
   "cell_type": "code",
   "execution_count": 120,
   "id": "f2439c8a",
   "metadata": {
    "scrolled": true
   },
   "outputs": [],
   "source": [
    "import os\n",
    "from tqdm import tqdm\n",
    "import pandas as pd\n",
    "import matplotlib.pyplot as plt\n",
    "import matplotlib\n",
    "import numpy as np"
   ]
  },
  {
   "cell_type": "code",
   "execution_count": 5,
   "id": "018aa367",
   "metadata": {},
   "outputs": [],
   "source": [
    "os.chdir('/home/miso/SpamDetection/spam_data/excel')"
   ]
  },
  {
   "cell_type": "code",
   "execution_count": 6,
   "id": "8c6256b2",
   "metadata": {},
   "outputs": [
    {
     "name": "stdout",
     "output_type": "stream",
     "text": [
      "/home/miso/SpamDetection/spam_data/excel\r\n"
     ]
    }
   ],
   "source": [
    "!pwd"
   ]
  },
  {
   "cell_type": "code",
   "execution_count": 7,
   "id": "2ec9e632",
   "metadata": {},
   "outputs": [],
   "source": [
    "excel_file_list = '2022-08-14.xlsx  2022-09-02.xlsx  2022-09-21.xlsx  2022-10-17.xlsx  2022-11-05.xlsx  2022-11-24.xlsx  2022-12-13.xlsx  \\\n",
    "2022-08-15.xlsx  2022-09-03.xlsx  2022-09-22.xlsx  2022-10-18.xlsx  2022-11-06.xlsx  2022-11-25.xlsx  2022-12-14.xlsx  \\\n",
    "2022-08-16.xlsx  2022-09-04.xlsx  2022-09-26.xlsx  2022-10-19.xlsx  2022-11-07.xlsx  2022-11-26.xlsx  2022-12-15.xlsx  \\\n",
    "2022-08-17.xlsx  2022-09-05.xlsx  2022-09-27.xlsx  2022-10-20.xlsx  2022-11-08.xlsx  2022-11-27.xlsx  2022-12-16.xlsx  \\\n",
    "2022-08-18.xlsx  2022-09-06.xlsx  2022-09-28.xlsx  2022-10-21.xlsx  2022-11-09.xlsx  2022-11-28.xlsx  2022-12-17.xlsx  \\\n",
    "2022-08-19.xlsx  2022-09-07.xlsx  2022-09-29.xlsx  2022-10-22.xlsx  2022-11-10.xlsx  2022-11-29.xlsx  2022-12-18.xlsx  \\\n",
    "2022-08-20.xlsx  2022-09-08.xlsx  2022-09-30.xlsx  2022-10-23.xlsx  2022-11-11.xlsx  2022-11-30.xlsx  2022-12-19.xlsx  \\\n",
    "2022-08-21.xlsx  2022-09-09.xlsx  2022-10-01.xlsx  2022-10-24.xlsx  2022-11-12.xlsx  2022-12-01.xlsx  2022-12-20.xlsx  \\\n",
    "2022-08-22.xlsx  2022-09-10.xlsx  2022-10-02.xlsx  2022-10-25.xlsx  2022-11-13.xlsx  2022-12-02.xlsx  2022-12-21.xlsx  \\\n",
    "2022-08-23.xlsx  2022-09-11.xlsx  2022-10-03.xlsx  2022-10-26.xlsx  2022-11-14.xlsx  2022-12-03.xlsx  2022-12-22.xlsx  \\\n",
    "2022-08-24.xlsx  2022-09-12.xlsx  2022-10-04.xlsx  2022-10-27.xlsx  2022-11-15.xlsx  2022-12-04.xlsx  2022-12-23.xlsx  \\\n",
    "2022-08-25.xlsx  2022-09-13.xlsx  2022-10-06.xlsx  2022-10-28.xlsx  2022-11-16.xlsx  2022-12-05.xlsx  2022-12-24.xlsx  \\\n",
    "2022-08-26.xlsx  2022-09-14.xlsx  2022-10-07.xlsx  2022-10-29.xlsx  2022-11-17.xlsx  2022-12-06.xlsx  2022-12-25.xlsx  \\\n",
    "2022-08-27.xlsx  2022-09-15.xlsx  2022-10-09.xlsx  2022-10-30.xlsx  2022-11-18.xlsx  2022-12-07.xlsx  2022-12-26.xlsx  \\\n",
    "2022-08-28.xlsx  2022-09-16.xlsx  2022-10-10.xlsx  2022-10-31.xlsx  2022-11-19.xlsx  2022-12-08.xlsx  2022-12-27.xlsx  \\\n",
    "2022-08-29.xlsx  2022-09-17.xlsx  2022-10-11.xlsx  2022-11-01.xlsx  2022-11-20.xlsx  2022-12-09.xlsx  2022-12-28.xlsx  \\\n",
    "2022-08-30.xlsx  2022-09-18.xlsx  2022-10-12.xlsx  2022-11-02.xlsx  2022-11-21.xlsx  2022-12-10.xlsx  2022-12-29.xlsx  \\\n",
    "2022-08-31.xlsx  2022-09-19.xlsx  2022-10-13.xlsx  2022-11-03.xlsx  2022-11-22.xlsx  2022-12-11.xlsx  2022-12-30.xlsx  \\\n",
    "2022-09-01.xlsx  2022-09-20.xlsx  2022-10-14.xlsx  2022-11-04.xlsx  2022-11-23.xlsx  2022-12-12.xlsx  2022-12-31.xlsx'.split('  ')"
   ]
  },
  {
   "cell_type": "code",
   "execution_count": 7,
   "id": "a518b2b3",
   "metadata": {},
   "outputs": [],
   "source": [
    "### CSV 변환\n",
    "# 한번에 100개까지만 workbook 열 수 있음 (100개 처리 후 kernel restart)\n",
    "# 0~99\n",
    "for num, i in enumerate(tqdm(excel_file_list)):\n",
    "    if num < 100:\n",
    "        workbook = Workbook(i)\n",
    "        workbook.save('/home/miso/SpamDetection/spam_data/csv/'+ \\\n",
    "                      i.split('.')[:-1][0]+'.csv', SaveFormat.CSV)\n",
    "    else:\n",
    "        break"
   ]
  },
  {
   "cell_type": "code",
   "execution_count": 8,
   "id": "db0c3a3a",
   "metadata": {},
   "outputs": [
    {
     "name": "stderr",
     "output_type": "stream",
     "text": [
      "133it [00:40,  3.28it/s]\n"
     ]
    }
   ],
   "source": [
    "# 100~132\n",
    "for num, i in enumerate(tqdm(excel_file_list)):\n",
    "    if num >= 100:\n",
    "        workbook = Workbook(i)\n",
    "        workbook.save('/home/miso/SpamDetection/spam_data/csv/'+ \\\n",
    "                      i.split('.')[:-1][0]+'.csv', SaveFormat.CSV)"
   ]
  },
  {
   "cell_type": "code",
   "execution_count": 25,
   "id": "9203f732",
   "metadata": {},
   "outputs": [],
   "source": [
    "os.chdir('/home/miso/SpamDetection/spam_data/csv')"
   ]
  },
  {
   "cell_type": "code",
   "execution_count": 23,
   "id": "a81645b8",
   "metadata": {},
   "outputs": [
    {
     "data": {
      "text/plain": [
       "'0814'"
      ]
     },
     "execution_count": 23,
     "metadata": {},
     "output_type": "execute_result"
    }
   ],
   "source": [
    "''.join(excel_file_list[0].split('.')[0].split('-')[1:])"
   ]
  },
  {
   "cell_type": "code",
   "execution_count": 15,
   "id": "db5fa0c6",
   "metadata": {},
   "outputs": [
    {
     "name": "stderr",
     "output_type": "stream",
     "text": [
      "100%|██████████████████████████████████████████████████████████████████| 133/133 [00:00<00:00, 281596.38it/s]"
     ]
    },
    {
     "name": "stdout",
     "output_type": "stream",
     "text": [
      "2022-08-14.xlsx\n",
      "2022-09-02.xlsx\n",
      "2022-09-21.xlsx\n",
      "2022-10-17.xlsx\n",
      "2022-11-05.xlsx\n",
      "2022-11-24.xlsx\n",
      "2022-12-13.xlsx\n",
      "2022-08-15.xlsx\n",
      "2022-09-03.xlsx\n",
      "2022-09-22.xlsx\n",
      "2022-10-18.xlsx\n",
      "2022-11-06.xlsx\n",
      "2022-11-25.xlsx\n",
      "2022-12-14.xlsx\n",
      "2022-08-16.xlsx\n",
      "2022-09-04.xlsx\n",
      "2022-09-26.xlsx\n",
      "2022-10-19.xlsx\n",
      "2022-11-07.xlsx\n",
      "2022-11-26.xlsx\n",
      "2022-12-15.xlsx\n",
      "2022-08-17.xlsx\n",
      "2022-09-05.xlsx\n",
      "2022-09-27.xlsx\n",
      "2022-10-20.xlsx\n",
      "2022-11-08.xlsx\n",
      "2022-11-27.xlsx\n",
      "2022-12-16.xlsx\n",
      "2022-08-18.xlsx\n",
      "2022-09-06.xlsx\n",
      "2022-09-28.xlsx\n",
      "2022-10-21.xlsx\n",
      "2022-11-09.xlsx\n",
      "2022-11-28.xlsx\n",
      "2022-12-17.xlsx\n",
      "2022-08-19.xlsx\n",
      "2022-09-07.xlsx\n",
      "2022-09-29.xlsx\n",
      "2022-10-22.xlsx\n",
      "2022-11-10.xlsx\n",
      "2022-11-29.xlsx\n",
      "2022-12-18.xlsx\n",
      "2022-08-20.xlsx\n",
      "2022-09-08.xlsx\n",
      "2022-09-30.xlsx\n",
      "2022-10-23.xlsx\n",
      "2022-11-11.xlsx\n",
      "2022-11-30.xlsx\n",
      "2022-12-19.xlsx\n",
      "2022-08-21.xlsx\n",
      "2022-09-09.xlsx\n",
      "2022-10-01.xlsx\n",
      "2022-10-24.xlsx\n",
      "2022-11-12.xlsx\n",
      "2022-12-01.xlsx\n",
      "2022-12-20.xlsx\n",
      "2022-08-22.xlsx\n",
      "2022-09-10.xlsx\n",
      "2022-10-02.xlsx\n",
      "2022-10-25.xlsx\n",
      "2022-11-13.xlsx\n",
      "2022-12-02.xlsx\n",
      "2022-12-21.xlsx\n",
      "2022-08-23.xlsx\n",
      "2022-09-11.xlsx\n",
      "2022-10-03.xlsx\n",
      "2022-10-26.xlsx\n",
      "2022-11-14.xlsx\n",
      "2022-12-03.xlsx\n",
      "2022-12-22.xlsx\n",
      "2022-08-24.xlsx\n",
      "2022-09-12.xlsx\n",
      "2022-10-04.xlsx\n",
      "2022-10-27.xlsx\n",
      "2022-11-15.xlsx\n",
      "2022-12-04.xlsx\n",
      "2022-12-23.xlsx\n",
      "2022-08-25.xlsx\n",
      "2022-09-13.xlsx\n",
      "2022-10-06.xlsx\n",
      "2022-10-28.xlsx\n",
      "2022-11-16.xlsx\n",
      "2022-12-05.xlsx\n",
      "2022-12-24.xlsx\n",
      "2022-08-26.xlsx\n",
      "2022-09-14.xlsx\n",
      "2022-10-07.xlsx\n",
      "2022-10-29.xlsx\n",
      "2022-11-17.xlsx\n",
      "2022-12-06.xlsx\n",
      "2022-12-25.xlsx\n",
      "2022-08-27.xlsx\n",
      "2022-09-15.xlsx\n",
      "2022-10-09.xlsx\n",
      "2022-10-30.xlsx\n",
      "2022-11-18.xlsx\n",
      "2022-12-07.xlsx\n",
      "2022-12-26.xlsx\n",
      "2022-08-28.xlsx\n",
      "2022-09-16.xlsx\n",
      "2022-10-10.xlsx\n",
      "2022-10-31.xlsx\n",
      "2022-11-19.xlsx\n",
      "2022-12-08.xlsx\n",
      "2022-12-27.xlsx\n",
      "2022-08-29.xlsx\n",
      "2022-09-17.xlsx\n",
      "2022-10-11.xlsx\n",
      "2022-11-01.xlsx\n",
      "2022-11-20.xlsx\n",
      "2022-12-09.xlsx\n",
      "2022-12-28.xlsx\n",
      "2022-08-30.xlsx\n",
      "2022-09-18.xlsx\n",
      "2022-10-12.xlsx\n",
      "2022-11-02.xlsx\n",
      "2022-11-21.xlsx\n",
      "2022-12-10.xlsx\n",
      "2022-12-29.xlsx\n",
      "2022-08-31.xlsx\n",
      "2022-09-19.xlsx\n",
      "2022-10-13.xlsx\n",
      "2022-11-03.xlsx\n",
      "2022-11-22.xlsx\n",
      "2022-12-11.xlsx\n",
      "2022-12-30.xlsx\n",
      "2022-09-01.xlsx\n",
      "2022-09-20.xlsx\n",
      "2022-10-14.xlsx\n",
      "2022-11-04.xlsx\n",
      "2022-11-23.xlsx\n",
      "2022-12-12.xlsx\n",
      "2022-12-31.xlsx\n"
     ]
    },
    {
     "name": "stderr",
     "output_type": "stream",
     "text": [
      "\n"
     ]
    }
   ],
   "source": [
    "### 병합\n",
    "for num, i in enumerate(tqdm(excel_file_list)):\n",
    "    pd.read_csv(i)"
   ]
  },
  {
   "cell_type": "code",
   "execution_count": 29,
   "id": "bcbab2f8",
   "metadata": {},
   "outputs": [],
   "source": [
    "csv_file_list = os.listdir('./')"
   ]
  },
  {
   "cell_type": "code",
   "execution_count": null,
   "id": "5a34e00f",
   "metadata": {
    "scrolled": true
   },
   "outputs": [],
   "source": [
    "# 0번째 행 => 컬럼명으로 올리고, 모든 데이터프레임(133개) 병합하기\n",
    "for num, file in enumerate(tqdm(csv_file_list)):\n",
    "    if num > 0:\n",
    "        pd_ex = pd.read_csv(file)\n",
    "        pd_ex = pd_ex.rename(columns = pd_ex.iloc[0])\n",
    "        pd_ex = pd_ex.drop(pd_ex.index[0])\n",
    "        pd_total = pd.concat([pd_total,pd_ex], ignore_index=True)\n",
    "        print('{0}번째 데이터프레임 shape:{1}'.format(num, pd_ex.shape))\n",
    "        print('병합한 TOTAL 데이터프레임 shape:{1}'.format(num, pd_total.shape))\n",
    "        print('==============================================')\n",
    "    else:\n",
    "        pd_total = pd_ex\n",
    "\n",
    "pd_total # (11960905 × 12)"
   ]
  },
  {
   "cell_type": "markdown",
   "id": "8a4ec81b",
   "metadata": {},
   "source": [
    "### 음성(녹음)에 해당하는 행 삭제"
   ]
  },
  {
   "cell_type": "code",
   "execution_count": 69,
   "id": "d81f9c04",
   "metadata": {},
   "outputs": [
    {
     "data": {
      "text/plain": [
       "{'RCS', nan, '기타', '문자', '음성(녹음)'}"
      ]
     },
     "execution_count": 69,
     "metadata": {},
     "output_type": "execute_result"
    }
   ],
   "source": [
    "set(pd_total['신고유형'])"
   ]
  },
  {
   "cell_type": "code",
   "execution_count": null,
   "id": "348ef712",
   "metadata": {
    "scrolled": true
   },
   "outputs": [],
   "source": [
    "pd_total = pd_total[pd_total['신고유형']!='음성(녹음)']\n",
    "pd_total # (9107687 x 12)"
   ]
  },
  {
   "cell_type": "code",
   "execution_count": 82,
   "id": "c86fbcba",
   "metadata": {
    "scrolled": true
   },
   "outputs": [
    {
     "data": {
      "text/plain": [
       "{'비스팸': 381847,\n",
       " '도박': 2110208,\n",
       " '성인': 485705,\n",
       " '기타': 4114228,\n",
       " '불법대출': 950755,\n",
       " '대리운전': 182839,\n",
       " '부동산': 173545,\n",
       " '금융': 80073,\n",
       " '의약품': 56070,\n",
       " '주식': 375230,\n",
       " '통신가입': 81150,\n",
       " '유흥업소': 19343,\n",
       " '확인불가': 77590,\n",
       " '운세': 4058,\n",
       " '게임': 12252,\n",
       " '스미싱': 1688,\n",
       " '계좌임대': 389,\n",
       " nan: 271,\n",
       " '여행': 321,\n",
       " '교육': 117,\n",
       " '성매매알선': 8}"
      ]
     },
     "execution_count": 82,
     "metadata": {},
     "output_type": "execute_result"
    }
   ],
   "source": [
    "tp_cnt = {}\n",
    "for tp in pd_total['스팸유형']:\n",
    "    if tp not in tp_cnt.keys():\n",
    "        tp_cnt[tp] = 1\n",
    "    else:\n",
    "        tp_cnt[tp] += 1\n",
    "tp_cnt"
   ]
  },
  {
   "cell_type": "code",
   "execution_count": null,
   "id": "f047df36",
   "metadata": {},
   "outputs": [],
   "source": [
    "pd_content = pd_total[['스팸유형', '메시지', '메시지 타입']]\n",
    "pd_content"
   ]
  },
  {
   "cell_type": "code",
   "execution_count": 151,
   "id": "7f07bc61",
   "metadata": {
    "scrolled": true
   },
   "outputs": [
    {
     "name": "stderr",
     "output_type": "stream",
     "text": [
      "/home/miso/.conda/envs/miso/lib/python3.7/site-packages/pandas/util/_decorators.py:311: SettingWithCopyWarning: \n",
      "A value is trying to be set on a copy of a slice from a DataFrame\n",
      "\n",
      "See the caveats in the documentation: https://pandas.pydata.org/pandas-docs/stable/user_guide/indexing.html#returning-a-view-versus-a-copy\n",
      "  return func(*args, **kwargs)\n"
     ]
    }
   ],
   "source": [
    "# nan에 해당하는 행 271개 삭제\n",
    "pd_content.dropna(axis=0, how='any', thresh=None, subset=None, inplace=True)"
   ]
  },
  {
   "cell_type": "code",
   "execution_count": null,
   "id": "1415fd9c",
   "metadata": {},
   "outputs": [],
   "source": [
    "pd_content"
   ]
  },
  {
   "cell_type": "code",
   "execution_count": 160,
   "id": "c7b565ed",
   "metadata": {},
   "outputs": [],
   "source": [
    "# df to csv (pd_content 열 3개로 다시 저장)\n",
    "os.chdir('/home/miso/SpamDetection/spam_data/preprocessed')\n",
    "pd_content.to_csv('./pd_content_2.csv')"
   ]
  },
  {
   "cell_type": "code",
   "execution_count": 91,
   "id": "8fe44158",
   "metadata": {},
   "outputs": [
    {
     "data": {
      "text/plain": [
       "dict_keys(['비스팸', '도박', '성인', '기타', '불법대출', '대리운전', '부동산', '금융', '의약품', '주식', '통신가입', '유흥업소', '확인불가', '운세', '게임', '스미싱', '계좌임대', nan, '여행', '교육', '성매매알선'])"
      ]
     },
     "execution_count": 91,
     "metadata": {},
     "output_type": "execute_result"
    }
   ],
   "source": [
    "tp_cnt.keys()"
   ]
  },
  {
   "cell_type": "code",
   "execution_count": 109,
   "id": "15381aa6",
   "metadata": {},
   "outputs": [
    {
     "data": {
      "text/plain": [
       "[381847,\n",
       " 2110208,\n",
       " 485705,\n",
       " 4114228,\n",
       " 950755,\n",
       " 182839,\n",
       " 173545,\n",
       " 80073,\n",
       " 56070,\n",
       " 375230,\n",
       " 81150,\n",
       " 19343,\n",
       " 77590,\n",
       " 4058,\n",
       " 12252,\n",
       " 1688,\n",
       " 389,\n",
       " 321,\n",
       " 117,\n",
       " 8]"
      ]
     },
     "execution_count": 109,
     "metadata": {},
     "output_type": "execute_result"
    }
   ],
   "source": [
    "x = np.arange(20)\n",
    "cnt = []\n",
    "for xx in x:\n",
    "    cnt.append(tp_cnt[xx])\n",
    "cnt"
   ]
  },
  {
   "cell_type": "code",
   "execution_count": 140,
   "id": "283aa392",
   "metadata": {},
   "outputs": [
    {
     "data": {
      "image/png": "[encoded data removed]",
      "text/plain": [
       "<Figure size 640x480 with 1 Axes>"
      ]
     },
     "metadata": {},
     "output_type": "display_data"
    }
   ],
   "source": [
    "plt.bar(x, cnt)\n",
    "plt.xticks(x, x)\n",
    "plt.xlabel('Spam Type')\n",
    "plt.ylabel('Count')\n",
    "plt.show()"
   ]
  },
  {
   "cell_type": "markdown",
   "id": "cfa22ce1",
   "metadata": {},
   "source": [
    "0 : '비스팸'   \n",
    "1 : '도박'   \n",
    "2 : '성인'   \n",
    "**3 : '기타'**   \n",
    "4 : '불법대출'   \n",
    "5 : '대리운전'   \n",
    "6 : '부동산'   \n",
    "7 : '금융'   \n",
    "8 : '의약품'   \n",
    "9 : '주식'   \n",
    "10 : '통신가입'   \n",
    "11 : '유흥업소'   \n",
    "12 : '확인불가'   \n",
    "13 : '운세'   \n",
    "14 : '게임'   \n",
    "15 : '스미싱'   \n",
    "16 : '계좌임대'   \n",
    "17 : '여행'   \n",
    "18 : '교육'   \n",
    "19 : '성매매알선'   "
   ]
  },
  {
   "cell_type": "code",
   "execution_count": 153,
   "id": "71d6e600",
   "metadata": {
    "scrolled": true
   },
   "outputs": [
    {
     "data": {
      "text/plain": [
       "SMS    8124869\n",
       "MMS     982547\n",
       "Name: 메시지 타입, dtype: int64"
      ]
     },
     "execution_count": 153,
     "metadata": {},
     "output_type": "execute_result"
    }
   ],
   "source": [
    "pd_content['메시지 타입'].value_counts()"
   ]
  },
  {
   "cell_type": "code",
   "execution_count": 156,
   "id": "29a34a88",
   "metadata": {
    "scrolled": false
   },
   "outputs": [
    {
     "data": {
      "image/png": "[encoded data removed]",
      "text/plain": [
       "<Figure size 640x480 with 1 Axes>"
      ]
     },
     "metadata": {},
     "output_type": "display_data"
    }
   ],
   "source": [
    "x = np.arange(2)\n",
    "y = [8124869, 982547]\n",
    "plt.bar(x, y)\n",
    "plt.xticks(x,['SMS', 'MMS'])\n",
    "plt.xlabel('Message Type')\n",
    "plt.ylabel('Count')\n",
    "plt.show()"
   ]
  },
  {
   "cell_type": "code",
   "execution_count": null,
   "id": "c5a58264",
   "metadata": {},
   "outputs": [],
   "source": []
  },
  {
   "cell_type": "code",
   "execution_count": null,
   "id": "5d68e9d9",
   "metadata": {},
   "outputs": [],
   "source": []
  },
  {
   "cell_type": "code",
   "execution_count": null,
   "id": "84c40261",
   "metadata": {},
   "outputs": [],
   "source": []
  },
  {
   "cell_type": "code",
   "execution_count": null,
   "id": "9a0c1a2d",
   "metadata": {},
   "outputs": [],
   "source": []
  }
 ],
 "metadata": {
  "kernelspec": {
   "display_name": "miso",
   "language": "python",
   "name": "miso"
  },
  "language_info": {
   "codemirror_mode": {
    "name": "ipython",
    "version": 3
   },
   "file_extension": ".py",
   "mimetype": "text/x-python",
   "name": "python",
   "nbconvert_exporter": "python",
   "pygments_lexer": "ipython3",
   "version": "3.7.15"
  }
 },
 "nbformat": 4,
 "nbformat_minor": 5
}
